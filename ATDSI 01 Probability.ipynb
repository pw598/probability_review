{
 "cells": [
  {
   "cell_type": "markdown",
   "id": "7e46eaa2-6463-4de0-874a-df94680f2241",
   "metadata": {},
   "source": [
    "# Probability"
   ]
  },
  {
   "cell_type": "markdown",
   "id": "d81255be-5494-4b7d-a6e8-e8f85f9571b1",
   "metadata": {},
   "source": [
    "<h3>Conditional Probability / Bayes' Rule</h3>\n",
    "\n",
    "$P(A|B) = \\frac{ P(B|A) P(A) }{P(B)}$\n",
    "\n",
    "- $P(A)$ is the prior\n",
    "- $P(B|A)$ is the likelihood\n",
    "- $P(A|B)$ is the posterior\n",
    "\n",
    "If $P(A|B) = P(A)$, then $A$ and $B$ are independent.\n",
    "\n",
    "Similarly, it is possible for $A$ and $B$ to be conditionally independent given the occurrence of another event.\n",
    "\n",
    "$P(A \\cup B|C) = P(A|C) P(B|C)$"
   ]
  },
  {
   "cell_type": "code",
   "execution_count": null,
   "id": "ae9b8e01-14ff-4370-b9a4-b05fad4dd165",
   "metadata": {},
   "outputs": [],
   "source": []
  },
  {
   "cell_type": "markdown",
   "id": "0310dcf6-a824-4624-bc09-c0d73d7ba834",
   "metadata": {},
   "source": [
    "<h3>Law of Total Probability</h3>\n",
    "\n",
    "Assume several disjoint events within $B$ have occurred. We can break down the probability of event $A$ having also occurred with the law of total probability.\n",
    "\n",
    "$P(A) = P(A|B_1) P(B_1) + \\ldots + P(A|B_n) P(B_n)$\n",
    "\n",
    "A can be decomposed into the weighted sum of conditional probabilities into a 'tree of outcomes'."
   ]
  },
  {
   "cell_type": "code",
   "execution_count": null,
   "id": "332f292a-d017-40b9-acd6-9159fc2a34e9",
   "metadata": {},
   "outputs": [],
   "source": []
  },
  {
   "cell_type": "markdown",
   "id": "5a9bd11d-5814-4857-9f3d-6a732bf3f4fe",
   "metadata": {},
   "source": [
    "<h3>Counting</h3>\n",
    "\n",
    "If the order of selection of the $n$ items being counted $k$ at a time matters, then the method for counting possible permutations is employed.\n",
    "\n",
    "$n(n-1)...(n-k+1) = \\frac{n!}{(n-k)!}$\n",
    "\n",
    "If the order of selection does not matter, the technique to count possible number of combinations is relevant.\n",
    "\n",
    "$\\binom{n}{k} = \\frac{n!}{k!(n-k)!}$\n",
    "\n",
    "Consider making up passwords (where order of characters matters) vs. choosing nearby restaurants on a map (where order does not matter)."
   ]
  },
  {
   "cell_type": "code",
   "execution_count": null,
   "id": "e99ff48b-f1fd-456c-9f91-63daabb00c10",
   "metadata": {},
   "outputs": [],
   "source": []
  },
  {
   "cell_type": "markdown",
   "id": "a16e9825-0457-4a1f-85f8-27ece6b106e0",
   "metadata": {},
   "source": [
    "<h3>Joint, Marginal, Conditional Probability Distributions</h3>\n",
    "\n",
    "$\\int_{-\\infty}^{\\infty} \\int_{-\\infty}^{\\infty} f_{X,Y} (x,y) ~dx ~dy = 1$\n",
    "\n",
    "From a joint PDF, a marginal PDF can be derived by integrating out the $Y$ term:\n",
    "\n",
    "$F_{X,Y}(x,y) = \\int_{-\\infty}^{\\infty} \\int_{-\\infty}^{\\infty} f_{X,Y}(x,y) ~dy$\n",
    "\n",
    "We can find a joint CDF where:\n",
    "\n",
    "$F_{X,Y} = \\int_{-\\infty}^{\\infty} \\int_{-\\infty}^{\\infty} f_{X,Y} (u,v) ~dv ~du$\n",
    "\n",
    "It is also possible to condition PDFs and CDFs on other variables:\n",
    "\n",
    "$f_X(x) = \\int_{-\\infty}^{\\infty} f_Y(y) F_{X|Y} (x|y) ~dy$\n",
    "\n",
    "where $X$ is conditioned on $Y$. This is an extension of Bayes' rule and works in both discrete and continuous cases."
   ]
  },
  {
   "cell_type": "code",
   "execution_count": null,
   "id": "310d7450-9536-49e4-a5bc-e5e88409d75d",
   "metadata": {},
   "outputs": [],
   "source": []
  },
  {
   "cell_type": "markdown",
   "id": "9c293c7d-6850-4387-b4af-f2cc3ee69c8e",
   "metadata": {},
   "source": [
    "<h2>Probability Distributions</h2>\n",
    "\n",
    "<h4>Binomial:</h4>\n",
    "\n",
    "$p(X=k) = \\binom{n}{k} p^k (1-p)^{n-k}$\n",
    "$\\mu = np, \\sigma^2 = np(1-p)$\n",
    "\n",
    "\n",
    "<h4>Poisson:</h4>\n",
    "\n",
    "$P(X=k) = \\frac{e^{-\\lambda} \\lambda^k}{k!}$\n",
    "$\\mu = \\lambda, \\sigma^2 = \\lambda$\n",
    "\n",
    "\n",
    "<h4>Uniform:</h4>\n",
    "\n",
    "$f(x) = \\frac{1}{b-a}$\n",
    "$\\mu = \\frac{a+b}{2}, \\sigma^2 = \\frac{(b-a)^2}{12}$\n",
    "\n",
    "\n",
    "<h4>Exponential:</h4>\n",
    "\n",
    "$f(x) = \\lambda e^{- \\lambda x}$\n",
    "$\\mu = \\frac{1}{\\lambda}, \\sigma = \\frac{1}{\\lambda^2}$\n",
    "\n",
    "<h4>Normal:</h4>\n",
    "\n",
    "$f(x) = ...$"
   ]
  },
  {
   "cell_type": "code",
   "execution_count": null,
   "id": "390fde63-5629-4a4b-a297-d49d2d354cc0",
   "metadata": {},
   "outputs": [],
   "source": []
  },
  {
   "cell_type": "markdown",
   "id": "458ac6ff-8a4a-4c87-a960-752c47ca67ec",
   "metadata": {},
   "source": [
    "<h3>Markov Chains</h3>\n",
    "\n",
    "A sequence of random variables $X_0, X_1, X_2, \\ldots$, taking values in the state space $\\{1, 2, \\ldots, m\\}$ is called a Markov chain if for all $n \\ge 0$:\n",
    "\n",
    "$P(X_{n+1} = j(X_n=i) = q_{ij})$\n",
    "\n",
    "The above condition is the Markove property, and says that given the entire past history $X_0, X_1, \\ldots, X_n$, only the most recent term $X_n$ matters for predicting $X_{n+1}$.\n",
    "\n",
    "The Markov property says that given the present, the past and future are conditionally independent. This greatly simplifies computations of conditional probability: instead of having to condition on the entire past, we only need to condition on the most recent value.\n",
    "\n",
    "The transition matrix $Z = q_{i,j}$ gives the probabilities of moving from any state to any other state in one step. This $i^{th}$ row of the transition matrix gives the n-step transition probabilities. If we specifiy $\\mathbf{s} = (s_1, \\ldots, s_m)$, then the marginal PMF of $X_n$ is $\\mathbf{s}Q^n$.\n",
    "\n",
    "States of a Markov chain can be classified as:\n",
    "\n",
    "- Recurrent or Transient: recurrent if the chain will return to the state over and over, and transient if it will eventually leave forever.\n",
    "\n",
    "- According to their Periods: the period of state $i$ is the greatest common divisor of the numbers of steps it can take to return to $1$, starting from $i$. A chain is irreducible if it is possible to get from any state to any state in a finite number of steps, and aperiodic if each state has period $1$.\n",
    "\n",
    "A stationary distribution for a finite Markov chain is a PMF $\\mathbf{s}$ such that $\\mathbf{s}Q = \\mathbf{s}$. If state $i$ has stationary probability $s_i$, then the expected time for the chain to return to $i$, starting from $i$, is $r_i = \\frac{1}{s_i}$."
   ]
  },
  {
   "cell_type": "code",
   "execution_count": null,
   "id": "7d06aec9-0844-4836-a7b1-3b0f0aef52c8",
   "metadata": {},
   "outputs": [],
   "source": []
  },
  {
   "cell_type": "code",
   "execution_count": null,
   "id": "f1174e38-291d-45fd-b98f-e427e392e23c",
   "metadata": {},
   "outputs": [],
   "source": []
  },
  {
   "cell_type": "markdown",
   "id": "a67c978c-2204-4f54-a311-fe64e8b17830",
   "metadata": {},
   "source": [
    "# Problems"
   ]
  },
  {
   "cell_type": "markdown",
   "id": "5d80cd8c-fe79-4d83-94f6-1a766cbed18f",
   "metadata": {},
   "source": [
    "<h4>Question 1</h4>\n",
    "\n",
    "Two teams play a best-of-7 series of games. Each team has a $50\\%$ chance of winning any given round. What is the probability that the series goes to $7$ games?\n",
    "\n",
    "<i>Answer:</i>\n",
    "\n",
    "For the series to go to $7$ games, each team must have son exactly $3$ times for the first $6$ games, so we use:\n",
    "\n",
    "$\\frac{\\binom{6}{3}}{2^6} = \\frac{20}{64} = \\frac{5}{16}$"
   ]
  },
  {
   "cell_type": "code",
   "execution_count": null,
   "id": "b79c4aee-47d6-487b-927f-ef58aee760f1",
   "metadata": {},
   "outputs": [],
   "source": []
  },
  {
   "cell_type": "markdown",
   "id": "59496bad-fb4f-47ce-a345-1e9d06db0843",
   "metadata": {},
   "source": [
    "<h4>Question 2</h4>\n",
    "\n",
    "Say you roll a die $3$ times. What is the probability of getting two sixes in a row?\n",
    "\n",
    "<i>Answer:</i>\n",
    "\n",
    "There are only two ways for 6s to be consecutive (roll $1$ and $2$, or roll $2$ and $3$). In the first case, the probability is given by:\n",
    "\n",
    "$2 \\left( \\frac{5}{6} \\right) \\left( \\frac{1}{6} \\right)^2 = \\frac{10}{216}$\n",
    "\n",
    "And for all $3$, the probability is $\\left( \\frac{1}{6} \\right)^3 = \\frac{1}{216}$\n",
    "\n",
    "So the desired probability is given by:\n",
    "\n",
    "$\\frac{10}{216} + \\frac{1}{216} = \\frac{11}{216}$"
   ]
  },
  {
   "cell_type": "code",
   "execution_count": null,
   "id": "5e5a4a45-5e34-42c0-8ec9-72fd221d0b10",
   "metadata": {},
   "outputs": [],
   "source": []
  },
  {
   "cell_type": "markdown",
   "id": "32cdc774-3ca1-47c4-81cd-9f8c8df86aed",
   "metadata": {},
   "source": [
    "<h4>Question 3</h4>\n",
    "\n",
    "You roll $3$ dice, one after another. What is the probability that you obtain $3$ numbers in strictly increasing order?\n",
    "\n",
    "<i>Answer:</i>\n",
    "\n",
    "The first number can be any value from $1$ through $6$, the second number has a $5/6$ chance of not being the same as the first, and the third has a $4/6$ chance of not being the prior two numbers. So:\n",
    "\n",
    "$1 \\cdot \\frac{5}{6} \\cdot \\frac{4}{6} = \\frac{5}{9}$\n",
    "\n",
    "There is one sequence that will be in a strictly increasing order, which occurs with probability $\\frac{1}{3!} = \\frac{1}{6}$. So the desired probability is given by:\n",
    "\n",
    "$\\frac{5}{9} \\cdot \\frac{1}{6} = \\frac{5}{54}$"
   ]
  },
  {
   "cell_type": "code",
   "execution_count": null,
   "id": "29e33dd5-3129-451a-a025-3dbb2d81b917",
   "metadata": {},
   "outputs": [],
   "source": []
  },
  {
   "cell_type": "markdown",
   "id": "a84eb6d8-2a4b-4c8c-96e3-938cd0c58c6b",
   "metadata": {},
   "source": [
    "<h4>Question 4</h4>\n",
    "\n",
    "You have a deck of $100$ cards with values ranging $1$ to $100$, and you draw two at random without replacement. What is the probability that the number of one card is precisely double the number of the other?\n",
    "\n",
    "<i>Answer:</i>\n",
    "\n",
    "There are $\\binom{100}{2} = 4950$ ways to choose two cards at random from the $100$. There are exactly $50$ pairs that satisfy the condition $(1,2), \\ldots, (50,100)$. So the desired probability is:\n",
    "\n",
    "$\\frac{50}{4950} = 0.01$"
   ]
  },
  {
   "cell_type": "code",
   "execution_count": null,
   "id": "29ad8dee-c43c-4605-82e1-61bbd1350d75",
   "metadata": {},
   "outputs": [],
   "source": []
  },
  {
   "cell_type": "markdown",
   "id": "a9ec38d2-3a8e-4972-9f62-d398bda8a6ba",
   "metadata": {},
   "source": [
    "<h4>Question 5</h4>\n",
    "\n",
    "You are in a 3D space. From $(0,0,0)$ to $(3,3,3)$, how many paths are there if you can only move up, right, and forward?\n",
    "\n",
    "<i>Answer:</i>\n",
    "\n",
    "Getting to $(3,3,3)$ requires $9$ moves. It must be the case that there are exactly $3$ moves in each of the 3 directions. There are therefore $9!$ ways to order the 9 moves in any given direction. We must divide by $3!$ for each direction to avoid overcounting.\n",
    "\n",
    "$\\frac{9!}{3! 3! 3!} = 1680$"
   ]
  },
  {
   "cell_type": "code",
   "execution_count": null,
   "id": "9b60edfb-55d2-47af-b45c-b02318b12e88",
   "metadata": {},
   "outputs": [],
   "source": []
  },
  {
   "cell_type": "markdown",
   "id": "89e61aad-a235-448b-a1b7-635aa05767af",
   "metadata": {},
   "source": [
    "<h4>Question 6</h4>\n",
    "\n",
    "$1$ in $1000$ people have a particular disease, and the test for the disease is $98\\%$ correct in testing for the disease. The test has a $1\\%$ error rate if the person being tested does not have the disease. If someone tests positive, what are the odds they have the disease?\n",
    "\n",
    "<i>Answer:</i>\n",
    "\n",
    "Let $A$ denote the event that someone has the disease, and $B$ denote the event that this person tests positive for the disease.\n",
    "\n",
    "$P(A|B) = \\frac{ P(B|A) P(A) }{P(B)}$\n",
    "\n",
    "We know that $P(B|A) = 0.98, P(A) = 0.001, and P(B|A') = 0.01$\n",
    "\n",
    "For the denominator, we have:\n",
    "\n",
    "$P(B) = P(B|A) P(A) + P(B|A') P(A')$\n",
    "$P(B) = (0.98)(0.001) + (0.01)(0.999)$\n",
    "\n",
    "Therefore, we have:\n",
    "\n",
    "$P(A|B) = \\frac{ (0.98)(0.001) }{ (0.98)(0.001) + (0.01)(0.999) }$"
   ]
  },
  {
   "cell_type": "code",
   "execution_count": null,
   "id": "a2d7f69d-fcae-4847-bbb0-f8600c16fe93",
   "metadata": {},
   "outputs": [],
   "source": []
  },
  {
   "cell_type": "markdown",
   "id": "6608ef54-8f17-495d-8741-28525980ddc4",
   "metadata": {},
   "source": [
    "<h4>Question 7</h4>\n",
    "\n",
    "Assume two coins, one fair and the other with both sides being tails. You pick one at random, flip it $5$ times, and it comes up tails $5$ times. What is the probability you are flipping the unfair coin?\n",
    "\n",
    "<i>Answer:</i>\n",
    "\n",
    "We can use Bayes' theorem. Let $U$ denote the case where we are flipping the unfair coin and $F$ denote the case where we are flipping a fair coin. The coin is chosen randomly, so we know that $P(U) = P(F) = 0.5$.\n",
    "\n",
    "We know $P(5T|U) = 1, and P(5T|F) = \\left( \\frac{1}{2} \\right)^5 = \\frac{1}{32}$\n",
    "\n",
    "By Bayes' theorem, we have:\n",
    "\n",
    "$P(U|5T) = \\frac{ P(5T|U) P(U) }{ P(5T|U) P(U) + P(5T|F) P(F) }$\n",
    "$P(U|5T) = \\frac{ (1)(0.5) }{ (1)(0.5) + (0.5)(1/32) } = 0.97$\n",
    "\n",
    "The probability that we picked the unfair coin is $97\\%$."
   ]
  },
  {
   "cell_type": "code",
   "execution_count": null,
   "id": "64177efb-cf4a-4ee4-bc8d-63eb5cc2c418",
   "metadata": {},
   "outputs": [],
   "source": []
  },
  {
   "cell_type": "markdown",
   "id": "f5a10566-8593-4759-a2cc-e9c8c346eb19",
   "metadata": {},
   "source": [
    "<h4>Question 9</h4>\n",
    "\n",
    "3 friends in Seattle tell you it is rainy, and each person has a $\\frac{1}{3}$ probability of lying. What is the probability that Seattle is rainy, assuming that the likelihood of rain on any given day is $0.25$?\n",
    "\n",
    "<i>Answer:</i>\n",
    "\n",
    "$P(A|B) = \\frac{ P(B|A) P(A) }{ P(B) }$\n",
    "$P(R|YYY) = \\frac{ P(YYY|R) P(R) }{ P(YYY) }$\n",
    "\n",
    "The numerator is:\n",
    "\n",
    "$\\left( \\frac{2}{3} \\right)^3 \\left( \\frac{1}{4} \\right) = \\frac{2}{27}$\n",
    "\n",
    "The denominator is:\n",
    "\n",
    "$P(YYY) = P(YYY|R) P(R) + P(YYY|R') P(R')$\n",
    "\n",
    "$P(YYY) = \\left( \\frac{2}{3} \\right)^3 \\left( \\frac{1}{4} \\right) + \\left( \\frac{1}{3} \\right)^3 \\left( \\frac{3}{4} \\right) = \\frac{11}{108}$\n",
    "\n",
    "Combining both terms:\n",
    "\n",
    "$\\frac{2/27}{11/108} = \\frac{8}{11}$"
   ]
  },
  {
   "cell_type": "code",
   "execution_count": null,
   "id": "8cb05796-4d59-4c2e-8c44-9538f48e0b66",
   "metadata": {},
   "outputs": [],
   "source": []
  },
  {
   "cell_type": "markdown",
   "id": "97e2327b-5fc6-4d15-b7d9-3777d84f89c1",
   "metadata": {},
   "source": [
    "<h4>Question 11</h4>\n",
    "\n",
    "You and your friend are playing a game. The two of you will continue to toss a coin until the sequence $HH$ or $TH$ shows up. If $HH$ shows first, you win, and if $TH$ shows up first, your friend wins. What is the probability of you winning?\n",
    "\n",
    "<i>Answer:</i>\n",
    "\n",
    "Though there is a formal way to apply Markov chain to this problem, there is a trick to simplify it. If $T$ is ever flipped, you annot then reach $HH$ before $TH$. Therefore, the probability of winning is limited to just flipping an HH initially, which is given by:\n",
    "\n",
    "$P(HH) = \\frac{1}{2} \\cdot \\frac{1}{2} = \\frac{1}{4}$"
   ]
  },
  {
   "cell_type": "code",
   "execution_count": null,
   "id": "3dd4caf8-1e02-46d4-83e9-cc6b70478112",
   "metadata": {},
   "outputs": [],
   "source": []
  },
  {
   "cell_type": "markdown",
   "id": "a110fa7e-1514-437b-bda0-ee45458f043c",
   "metadata": {},
   "source": [
    "<h4>Question 13</h4>\n",
    "\n",
    "A content team labels pieces of content on the platform as either spam or non-spam. $90\\%$ of raters are diligent, and will mark $20\\%$ of the content as spam and 80% as non-spam. The remaining $10\\%$ of raters will mark 0% of the content as spam and $100\\%$ as non-spam.\n",
    "\n",
    "Assume the pieces of content are labeled independently of one another, for every rater. Given that a rater has labeled four pieces of content as good, what is the probability they are in the group of diligent raters?\n",
    "\n",
    "<i>Answer:</i>\n",
    "    \n",
    "Let $D$ denote the case where a rater is diligent, and $E$ non-diligent. Let $4N$ denote the case where $4$ pieces of content are labeled as non-spam.\n",
    "\n",
    "$P(D|4N) = \\frac{ P(4N|D) P(D) }{ P(4N|D) P(D) + P(4N|E) P(E) }$\n",
    "\n",
    "We are given that:\n",
    "\n",
    "- $P(D) = 0.9$\n",
    "- $P(E) = 0.1$\n",
    "- $P(4N|D) = 0.8^4$ (due to independence)\n",
    "- $P(4N|E) = 1$\n",
    "\n",
    "$P(D|4N) = \\frac{ (0.8)^4 (0.9) }{ (0.8)^4 (0.9) + (1)^4 (0.1) } = 0.79$\n",
    "\n",
    "The probability that it is one of the diligent raters is $0.79$."
   ]
  },
  {
   "cell_type": "code",
   "execution_count": null,
   "id": "ad428c69-989e-4c54-b691-e4169fbb824c",
   "metadata": {},
   "outputs": [],
   "source": []
  },
  {
   "cell_type": "markdown",
   "id": "137e477a-dc76-4045-8007-def2881c0f8a",
   "metadata": {},
   "source": [
    "<h4>Question 14</h4>\n",
    "\n",
    "A couple has two children. You discover that one is a boy. What is the probability that the second child is also a boy?\n",
    "\n",
    "<i>Answer:</i>\n",
    "\n",
    "Let $B$ represent boy and $G$ represent girl. We then have the sample space $BB, BG, GB, GG$ - except that $GG$ has already been ruled out. So the answer is $1/3$."
   ]
  },
  {
   "cell_type": "code",
   "execution_count": null,
   "id": "e4d470fd-c9bf-4fdd-96f4-fff7c1b1c021",
   "metadata": {},
   "outputs": [],
   "source": []
  },
  {
   "cell_type": "markdown",
   "id": "768947a7-f706-4cf0-b0b6-303081ccee7c",
   "metadata": {},
   "source": [
    "<h4>Question 15</h4>\n",
    "\n",
    "A desk has $8$ drawers. There is a probability of $1/2$ that someone placed a letter in any of the desk's drawers, and $1/2$ that they did not. You open the first $7$ drawers and find that they are all empty. What is the probability that the last drawer has a letter in it?\n",
    "\n",
    "<i>Answer:</i>\n",
    "    \n",
    "Let A denote the event that there is a letter in the $8^{th}$ drawer, and $B$ denote the event that the first $7$ drawers are empty. The probability of B occurring can be found by conditioning on whether a letter was put in the drawers or not.\n",
    "\n",
    "$P(B) = \\left( \\frac{1}{2} \\right) \\left( \\frac{1}{8} \\right) + \\left( \\frac{1}{2} \\right) (1) = \\frac{9}{16}$\n",
    "\n",
    "For $A$ and $B$ both to occur, we have:\n",
    "\n",
    "$P(A \\cap B) = \\left( \\frac{1}{2} \\right) \\left( \\frac{1}{8} \\right) = \\frac{1}{16}$\n",
    "\n",
    "Therefore, we have:\n",
    "\n",
    "$P(A|B) = \\frac{P(A \\cap B)}{P(B)} = \\frac{1}{9}$"
   ]
  },
  {
   "cell_type": "code",
   "execution_count": null,
   "id": "0cdf701b-3eff-4797-a922-61bb9f7363d6",
   "metadata": {},
   "outputs": [],
   "source": []
  },
  {
   "cell_type": "markdown",
   "id": "f6dc640a-d21c-4df0-8e5a-204b482d2ed9",
   "metadata": {},
   "source": [
    "<h4>Question 16</h4>\n",
    "\n",
    "Two tennis players will play until one person has scored $2$ more points than the other. The first player has a $60\\%$ chance of winning every point, and the second player has a $40\\%$ chance. What is the probability that the first player will win the match?\n",
    "\n",
    "<i>Answer:</i>\n",
    "\n",
    "We can use a recursive formulation. Let $p$ be the probability that the first player wins. Assume the score is $0-0$. \n",
    "\n",
    "- If the first player wins a game (with probability $0.6$), then two outcomes are possible: 1) the first player wins with probability $0.6$, and 2) with probability $0.4$, the score goes back to $0-0$.</li>\n",
    "\n",
    "<li>Similarly, if the first player loses a game (with probability $0.4$), then with probability $0.6$, the score is back to $0-0$, and with probability $0.4$, the first player loses.</li>\n",
    "</ul>\n",
    "\n",
    "Therefore, we have $p = 0.6^2 + 2(0.6)(0.4)p$  (?)\n",
    "\n",
    "Solving this yields $p \\approx 0.692$."
   ]
  },
  {
   "cell_type": "code",
   "execution_count": null,
   "id": "ed4aab9a-3338-42e0-ba3a-0a2700764dc3",
   "metadata": {},
   "outputs": [],
   "source": []
  },
  {
   "cell_type": "markdown",
   "id": "a90f57bf-c2a5-4f92-9a34-0618463b22f6",
   "metadata": {},
   "source": [
    "<h4>Question 17</h4>\n",
    "\n",
    "Say you have a deck of $50$ cards made up of $5$ different colors, with $10$ cards of each color, numbered $1$ through $10$. What is the probability that $2$ cards you pick at random do not have the same color and are also not the same number?\n",
    "\n",
    "<i>Answer:</i>\n",
    "\n",
    "Let $A$ be the event that the color of card $2$ does not match that of card $1$, and $B$ be the event that the number of card $2$ does not match that of card $1$. Then, we went to find $P(A \\cap B)$.\n",
    "\n",
    "The two events are mutually exclusive. Two cards with the same colors cannot have the same numbers, and vice versa. $P(A \\cap B) = P(A) P(B|A)$. \n",
    "\n",
    "For $A$ to occur, there are $40$ remaining cards of a color different from that of the first card drawn (and $49$ remaining cards altogether). Therefore, $P(A) = 40/49$.\n",
    "\n",
    "For $B$, we know that of the $40$ remaining cards, $36$ of them ($9$ of each remaining color) do not have the same number as that of card $1$. Therefore, $P(B|A) = 36/40$.\n",
    "\n",
    "Thus, the desired probability is:\n",
    "\n",
    "$P(A \\cap B) = \\frac{40}{49} \\cdot \\frac{36}{40} = \\frac{36}{49}$"
   ]
  },
  {
   "cell_type": "code",
   "execution_count": null,
   "id": "d5bdbff1-4ce9-434d-8001-19dfce4fe0ed",
   "metadata": {},
   "outputs": [],
   "source": []
  },
  {
   "cell_type": "markdown",
   "id": "804ed22e-a99b-4539-b75b-a94521fd3e3b",
   "metadata": {},
   "source": [
    "<h4>Question 19</h4>\n",
    "\n",
    "A and B play the following game: a number from $1$ to $6$ is chosen, and A and B will toss a die until the first person throws a die showing side $k$. The reward is $\\$100$. How much is A willing to pay to play this game?\n",
    "\n",
    "<i>Answer:</i>\n",
    "\n",
    "Let the probability of A winning (if A goes first) be given by $P(A)$ and the probability of B winning be $P(B')$. Then:\n",
    "\n",
    "$P(A) = \\frac{1}{6} + \\frac{5}{6}(1-P(B'))$\n",
    "\n",
    "If A doesn't roll side $k$ immediately, then $P(B') = P(A)$, since now the game is symmetric with player B going first. Therefore:\n",
    "\n",
    "$P(A) = \\frac{1}{6} + \\frac{5}{6} - \\frac{5}{6} P(A)$\n",
    "\n",
    "Solving yields $P(A) = \\frac{6}{11}$ and $P(B) = 1 - P(A) = \\frac{5}{11}$. Since the payout is $\\$100$, A should be willing to pay an amount up to the difference in expected values in going first, which is:\n",
    "\n",
    "$100 \\left( \\frac{6}{11} - \\frac{5}{11} \\right) = \\frac{100}{11} \\approx 9.09$"
   ]
  },
  {
   "cell_type": "code",
   "execution_count": null,
   "id": "9eb1b6ad-2b8c-423f-9810-50454529a9a4",
   "metadata": {},
   "outputs": [],
   "source": []
  },
  {
   "cell_type": "markdown",
   "id": "35662d86-4466-41d3-9448-a417b1ea8c26",
   "metadata": {},
   "source": [
    "<h4>Question 23</h4>\n",
    "\n",
    "What is the probability that, in a random sequence of $H$'s and $T$'s, $HHT$ shows up before $HTT$?\n",
    "\n",
    "<i>Answer:</i>\n",
    "\n",
    "Both sequences require a heads first. Once the $H$ appears, there are $3$ possibilities:\n",
    "- If the next flip is $H$, $HHT$ will appear first, upon the next occurrence of $T$. This has probability $1/2$.\n",
    "- If the next flip is $T$, there are two possibilities\n",
    "    - If TT appears, the $HTT$ appeared first. This has probability $1/4$.\n",
    "    - Alternatively, if $TH$ appears, we are back in the initial configuration of having gotten the first $H$.\n",
    "\n",
    "Therefore:\n",
    "\n",
    "$p = \\frac{1}{2} + \\frac{1}{4}p$\n",
    "\n",
    "Solving yields $p=\\frac{2}{3}$"
   ]
  },
  {
   "cell_type": "code",
   "execution_count": null,
   "id": "af66b4ea-233b-45b2-8c5e-116211fab9b4",
   "metadata": {},
   "outputs": [],
   "source": []
  },
  {
   "cell_type": "markdown",
   "id": "2f668dbd-9c0a-4eb5-8c28-d4907e4046f6",
   "metadata": {},
   "source": [
    "<h4>Question 24</h4>\n",
    "\n",
    "A fair coin is tossed twice, and you are asked to decide whether it is more likely that two heads show up given that either a) at least one toss is heads, or b) the second toss was a head? Does your answer change if the coin is unfair?\n",
    "\n",
    "<i>Answer:</i>\n",
    "\n",
    "Let $A$ be the event that the first toss is a heads and B be the event that the second toss is a heads. Then, for the first case, we are assessing $P(A \\cap B | A \\cup B)$, whereas for the second case we are assessing $P(A \\cap B | B)$. \n",
    "\n",
    "For the first case we have:\n",
    "\n",
    "$P(A \\cap B | A \\cup B) = \\frac{ P(A \\cap B) \\cap P(A \\cup B) }{ P \\cup B }$\n",
    "\n",
    "$P(A \\cap B | A \\cup B) = \\frac{P(A \\cap B)}{P(A \\cup B)} = \\frac{1/4}{3/4} = \\frac{1}{3}$\n",
    "\n",
    "For the second case, we have:\n",
    "\n",
    "$P(A \\cap B | B) = \\frac{ P(A \\cap B) \\cap P(B) }{P(B)} = \\frac{P(A \\cap B)}{P(B)} = \\frac{1/4}{1/2} = \\frac{1}{2}$\n",
    "\n",
    "Therefore, the second case is more likely."
   ]
  },
  {
   "cell_type": "code",
   "execution_count": null,
   "id": "85aeba65-5541-4143-ab9c-726cc66fdb8a",
   "metadata": {},
   "outputs": [],
   "source": []
  },
  {
   "cell_type": "markdown",
   "id": "fdded240-10b5-4962-9afa-ff003d761da2",
   "metadata": {},
   "source": [
    "<h4>Question 26</h4>\n",
    "\n",
    "A biased coin, with probability p of landing on heads, is tossed n times. Write a recurrence relation for the probability that the total number of heads after $n$ tosses is even.\n",
    "\n",
    "<i>Answer:</i>\n",
    "\n",
    "Let $A$ be the event that the total number of heads after $n$ tosses is even, $B$ be the event that the first toss was tails, and $B'$ be the event that the first toss was heads. By the law of total probability, we have:\n",
    "\n",
    "$P(A) = P(A|B) P(B) + P(A|B') P(B)$\n",
    "\n",
    "Then, we can write the recurrence relation as:\n",
    "\n",
    "$p_n = (1-p)p_{n-1} + p(1-p_{n-1})$"
   ]
  },
  {
   "cell_type": "code",
   "execution_count": null,
   "id": "f28f12c8-be98-4bfa-82b2-7243536fdd72",
   "metadata": {},
   "outputs": [],
   "source": []
  },
  {
   "cell_type": "markdown",
   "id": "66a81674-c46d-4f93-9229-5105277fc921",
   "metadata": {},
   "source": [
    "<h4>Question 27</h4>\n",
    "\n",
    "Alice and Bob are playing a game. They play a series of rounds until one wins two more rounds than the other. Alice wins a round with probability $p$. What is the probability that Bob wins the overall series?\n",
    "\n",
    "<i>Answer:</i>\n",
    "\n",
    "Since Alice wins with probability p, Bob wins with probability $1-p$ (we'll denote it as $q$). Let $B$ represent the event that Bob wins $i$ matches for $i = 0,1,2,\\ldots$. Let $B^*$ denote the event that Bob wins the entire series. We can use the law of conditional probability as follows:\n",
    "\n",
    "$P(B^*) = P(B^*|B_2) P(B_2) + P(B^*|B_1) P(B_1) + P(B^*|B_0) P(B_0)$\n",
    "\n",
    "Since Bob wins each round with probability $q$, we have:\n",
    "\n",
    "$P(B_2) = q^2, P(B_1) = 2pq, P(B_0) = p^2$\n",
    "\n",
    "Substituting those values into the above expression yields:\n",
    "\n",
    "$P(B^*) = 1 \\cdot q^2 + P(B^*) \\cdot 2pq + 0 \\cdot p^2$\n",
    "\n",
    "Hence, the desired probability is the following:\n",
    "\n",
    "$P(B^*) = \\frac{q^2}{1-2qp}$"
   ]
  }
 ],
 "metadata": {
  "kernelspec": {
   "display_name": "Python 3 (ipykernel)",
   "language": "python",
   "name": "python3"
  },
  "language_info": {
   "codemirror_mode": {
    "name": "ipython",
    "version": 3
   },
   "file_extension": ".py",
   "mimetype": "text/x-python",
   "name": "python",
   "nbconvert_exporter": "python",
   "pygments_lexer": "ipython3",
   "version": "3.11.5"
  }
 },
 "nbformat": 4,
 "nbformat_minor": 5
}
