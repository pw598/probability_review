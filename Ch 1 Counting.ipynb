{
 "cells": [
  {
   "cell_type": "markdown",
   "id": "d28b485b-cbb8-47b8-899b-df6b2959cad0",
   "metadata": {},
   "source": [
    "# Chapter 1: Counting"
   ]
  },
  {
   "cell_type": "code",
   "execution_count": 1,
   "id": "a365fb10-f0e6-4469-86e2-c8e939ff0cc4",
   "metadata": {},
   "outputs": [],
   "source": [
    "# The source of the content is freely available online\n",
    "# https://drive.google.com/file/d/1VmkAAGOYCTORq1wxSQqy255qLJjTNvBI/view\n",
    "# https://projects.iq.harvard.edu/stat110/"
   ]
  },
  {
   "cell_type": "markdown",
   "id": "f665611a-0736-4cfe-a7cb-60b96043f250",
   "metadata": {},
   "source": [
    "<h3>1.4.1 Multiplication Rule</h3>\n",
    "\n",
    "The multiplication rule leads naturally to counting rules for sampling with replacement and sampling without replacement."
   ]
  },
  {
   "cell_type": "code",
   "execution_count": null,
   "id": "f135aa21-21c5-4a7d-b969-310c7c71f44a",
   "metadata": {},
   "outputs": [],
   "source": []
  },
  {
   "cell_type": "markdown",
   "id": "29939ccc-2155-43d1-9e2f-a6aecb4bc026",
   "metadata": {},
   "source": [
    "<h4>Theorem 1.4.1 (Multiplication Rule)</h4>\n",
    "\n",
    "Consider a compound experiment consisting of two sub-experiments, $A$ and $B$. If experiment $A$ has $a$ possible outcomes and experiment $B$ has $b$ possible outcomes, then the compound experiment has $ab$ possible outcomes.\n",
    "\n",
    "Stated more generally, if the first component has $n_1$ possible outcomes, the second $n_2$, and the $r^{th}$ component $n_r$ possible outcomes, then overall there are $n_1 = n_2 \\cdot \\ldots \\cdot n_r$ possibilities for the whole experimeent."
   ]
  },
  {
   "cell_type": "code",
   "execution_count": null,
   "id": "fe6a3c88-48ce-4826-9876-9a12f0cf51a8",
   "metadata": {},
   "outputs": [],
   "source": []
  },
  {
   "cell_type": "markdown",
   "id": "a6c98cfc-19bf-46ea-803a-4a764ef5dead",
   "metadata": {
    "tags": []
   },
   "source": [
    "<h4>Example 1.4.3 (Runners)</h4>\n",
    "\n",
    "$10$ people are running a race. How many possibilities are there for first, second, and third place winners?\n",
    "\n",
    "<i>Answer:</i>\n",
    "\n",
    "There are $10$ possibilities for first, $9$ for second, etc. $10 \\cdot 9 \\cdot 8 = 720$ possibilities."
   ]
  },
  {
   "cell_type": "code",
   "execution_count": null,
   "id": "316f8832-e87b-4968-bc2c-2740b29148b0",
   "metadata": {},
   "outputs": [],
   "source": []
  },
  {
   "cell_type": "markdown",
   "id": "45293fb6-2fb8-456d-a00d-d47f93259864",
   "metadata": {},
   "source": [
    "<h4>Example 1.4.6 (Subsets)</h4>\n",
    "\n",
    "A set with $n$ elements has $2^n$ subsets, including the empty set and the set itself. This follows from the multiplicative rule since for each element, we can choose whether to include it or exclude it. For example, the subset $\\{1,2,3\\}$ has $8$ subsets.\n",
    "\n",
    "- $\\{1\\}$\n",
    "- $\\{2\\}$\n",
    "- $\\{3\\}$\n",
    "- $\\{1,2\\}$\n",
    "- $\\{1,3\\}$\n",
    "- $\\{2,3\\}$\n",
    "- $\\{1,2,3\\}$"
   ]
  },
  {
   "cell_type": "code",
   "execution_count": null,
   "id": "55ad5362-a341-4dd9-bfee-160f16e06c3c",
   "metadata": {},
   "outputs": [],
   "source": []
  },
  {
   "cell_type": "markdown",
   "id": "79705e5a-d9a4-48de-8931-febafa1f1a63",
   "metadata": {},
   "source": [
    "<h3>Sampling with Replacement</h3>"
   ]
  },
  {
   "cell_type": "markdown",
   "id": "0679bbbe-6fdd-4853-9cd0-f48d603190ff",
   "metadata": {},
   "source": [
    "<h4>Theorem 1.4.7 (Sampling With Replacement)</h4>\n",
    "\n",
    "If you have $n$ objects and make $k$ choices from them, one at a time with replacement, then there are $n^k$ possible outcomes.\n",
    "\n",
    "If a jar has $n$ balls labeled $1$ to $n$, and we sample with replacement, there are $n^k$ ways to obtain a sample of size $k$."
   ]
  },
  {
   "cell_type": "code",
   "execution_count": null,
   "id": "d672de7f-2bc8-476d-a6bf-ce69c62ac0ad",
   "metadata": {},
   "outputs": [],
   "source": []
  },
  {
   "cell_type": "markdown",
   "id": "3851c50b-275f-4fdb-8dc4-aee3073c79ca",
   "metadata": {},
   "source": [
    "<h4>Theorem 1.4.8 (Sampling Without Replacement)</h4>\n",
    "\n",
    "If you have $n$ objects and make $k$ choices one at a time without replacement, there are $n \\cdot (n-1) \\cdot \\ldots \\cdot (n-k+1)$ possible outcomes."
   ]
  },
  {
   "cell_type": "code",
   "execution_count": null,
   "id": "e9f1bc1f-3ed6-4558-9a7e-409316444945",
   "metadata": {},
   "outputs": [],
   "source": []
  },
  {
   "cell_type": "markdown",
   "id": "ae7f46f9-1ed0-4c45-9afc-f37c6c5179e3",
   "metadata": {},
   "source": [
    "<h4>Example 1.4.9</h4>\n",
    "\n",
    "By theorem 1.4.8, with $k=n$, there are $n!$ permutations of $1, 2, \\ldots, n$."
   ]
  },
  {
   "cell_type": "code",
   "execution_count": null,
   "id": "7f7b739f-651c-4317-98a4-0ec0782c5b2e",
   "metadata": {},
   "outputs": [],
   "source": []
  },
  {
   "cell_type": "markdown",
   "id": "51cc9c06-f6ae-4f68-afa5-6d55dbd02ce2",
   "metadata": {},
   "source": [
    "<h4>Example 1.4.10 (Permutations and Factorials)</h4>\n",
    "\n",
    "There are $k$ people in a room, and each person's birthday is equally likely to be any day of the year. They are also independent of each other. What is the probability that at least one pair of people in the group have the same birthday?\n",
    "\n",
    "<i>Answer:</i>\n",
    "\n",
    "There are $365^k$ ways to assign birthdays to people in the room. The $365$ days of the year are sampled $k$ times with replacement. Since all possibilities are equally likely, the naive definition of probability applies.\n",
    "\n",
    "It's easier to count the complement of shared birthdays, which is the number of ways to assign birthdays to $k$ people such that no two share one. This amounts to sampling the $365$ days of the year without replacement, so the number of possibilities is: $365 \\cdot 364 \\cdot \\ldots \\cdot (365-k+1)$ for $k \\le 365$.\n",
    "\n",
    "Therefore, the probability of no birthday matches in a group of $k$ people is:\n",
    "\n",
    "$P(\\text{no birthday match}) = \\frac{ 365 \\cdot 364 \\cdot \\ldots \\cdot (365-k+1) }{365^k}$\n",
    "\n",
    "and the probability of at least one birthday match is:\n",
    "\n",
    "$P(\\text{birthday match}) = 1 - \\frac{ 365 \\cdot 364 \\cdot \\ldots \\cdot (365-k+1) }{365^k}$\n",
    "\n",
    "Figure 1.5 plots the probability of at least one birthday match as a function of $k$. The first value of $k$ for which the probability of a match exceeds $0.5$ is $k=23$. At $k=57$, the probability of a match exceeds $99\\%$.\n",
    "\n",
    "For $k=366$, we are guaranteed to have a match, but it's surprising that with a much smaller group, it is overwhelmingly likely that there is a birthday match.\n",
    "\n",
    "For intuition why it should not be surprissing, note that with $23$ people there are $\\binom{23}{2} = 253$ pairs of people, any of which could be a birthday match.\n",
    "\n",
    "<img src=\"img/fig 1-5.png\" style=\"height: 400px; width:auto;\">"
   ]
  },
  {
   "cell_type": "code",
   "execution_count": null,
   "id": "20b7c05d-7dc9-4ebc-87d9-3dcf0a52897d",
   "metadata": {},
   "outputs": [],
   "source": []
  },
  {
   "cell_type": "markdown",
   "id": "abeabeb7-abbd-42e1-bb09-fff37b746b08",
   "metadata": {},
   "source": [
    "<h4>Example 1.4.12 (Liebniz's Mistake)</h4> \n",
    "\n",
    "If we roll two fair dice, which is more likely: a sum of $11$ or $12$?\n",
    "\n",
    "<i>Answer:</i>\n",
    "\n",
    "Label the dice $A$ and $B$, and consider each to be a sub-experiment. $(5,6)$ and $(6,5)$ sum to $11$, however only $(6,6)$ sums to $12$. Therefore, a sum of 11 is twice as likely. The probability is $\\frac{1}{18}$ for $11$, and $\\frac{1}{36}$ for $12$."
   ]
  },
  {
   "cell_type": "code",
   "execution_count": null,
   "id": "2330bb7b-64b7-41d4-829c-15c9318cc127",
   "metadata": {},
   "outputs": [],
   "source": []
  },
  {
   "cell_type": "markdown",
   "id": "fe64c6af-7fb2-4220-9fe8-acf6d749a723",
   "metadata": {},
   "source": [
    "<h4>Example 1.4.13 (Committees and Teams)</h4>\n",
    "\n",
    "Consider a group of $4$ people.\n",
    "\n",
    "<b>Part A:</b>\n",
    "    \n",
    "How many ways are there to choose a two-person committee?\n",
    "\n",
    "<i>Answer:</i>\n",
    "\n",
    "How many ways are there to choose a two-person committee?\n",
    "\n",
    "One way to count the possibilities is listing them out:<\n",
    "- $1-2$\n",
    "- $1-3$\n",
    "- $1-4$\n",
    "- $2-3$\n",
    "- $2-4$\n",
    "- $3-4$\n",
    "\n",
    "Another is to use the multiplication rule with an adjustment for over-counting. By the multiplication rule, there are $4 \\cdot 3$ ways to choose the first two people, but this overcounts by a factor of $2$, since picking $1$ and $2$ to be on the same committee is the same as picking $2$ and $1$. So the number of possibilities is $(4 \\cdot 3) / 12 = 6$.\n",
    "\n",
    "<b>Part B</b>\n",
    "\n",
    "How many ways are there to break the people into two groups of two?\n",
    "\n",
    "<i>Answer:</i>\n",
    "\n",
    "Here are 3 ways to see that there are 3 ways to form the teams:\n",
    "\n",
    "<i>Method 1:</i>\n",
    "\n",
    "Labeling the people as $1$,$2$,$3$,$4$, we can directly list out the possibilities:\n",
    "- $1-2, 3-4$\n",
    "- $1-3, 2-4$\n",
    "- $1-4, 2-3$\n",
    "\n",
    "<i>Method 2:</i>\n",
    "\n",
    "Note that it suffices to specify person 1's teammate, and then the other team is determined.\n",
    "\n",
    "<i>Method 3:</i>\n",
    "\n",
    "Use (a) to see that there are $6$ ways to choose one team. This overcounts by a factor of $2$, since picking 1 and 2 to be a team is equivalent to picking 3 and 4 to be a team.\n",
    "</ol>"
   ]
  },
  {
   "cell_type": "code",
   "execution_count": null,
   "id": "5704d47d-85a4-4950-8ee4-af0bf8815295",
   "metadata": {},
   "outputs": [],
   "source": []
  },
  {
   "cell_type": "markdown",
   "id": "c2b163e3-1720-4d3c-ab57-b4b4b93c4c1a",
   "metadata": {},
   "source": [
    "<h3>Binomial Coefficients</h3>\n",
    "\n",
    "A binomial coefficient counts the number of subsets of a certain size for a set, such as the number of ways to choose a committee of size $k$ from a set of $n$ people.\n",
    "\n",
    "Sets and subsets are by definition unordered, so we are counting the number of ways to choose $k$ objects out of $n$, without replication and without distinguishing between the different orders in which they could be chosen."
   ]
  },
  {
   "cell_type": "code",
   "execution_count": null,
   "id": "bf255690-249e-4faf-84c1-157528e837cd",
   "metadata": {},
   "outputs": [],
   "source": []
  },
  {
   "cell_type": "markdown",
   "id": "f62999f8-1133-4af8-ab45-50d77b2bd4fa",
   "metadata": {},
   "source": [
    "<h4>Definition 1.4.14 (Binomial Coefficient)</h4>\n",
    "\n",
    "For any nonnegative integers $k$ and $n$, the binomial coefficient $\\binom{n}{k}$ is the number of  subsets of size $k$ for a set of size $n$."
   ]
  },
  {
   "cell_type": "code",
   "execution_count": null,
   "id": "06ec9140-ad7a-409b-87f1-d7d2f503df63",
   "metadata": {},
   "outputs": [],
   "source": []
  },
  {
   "cell_type": "markdown",
   "id": "77ca1081-e225-4c44-bd0a-24e6c19f79ca",
   "metadata": {},
   "source": [
    "<h4>Theorem 1.4.15 (Binomial Coefficient Formula)</h4>\n",
    "\n",
    "$\\binom{n}{k} = \\frac{ n \\cdot (n-1) \\cdot \\ldots \\cdot (n-k+1) }{k!}$\n",
    "\n",
    "$\\binom{n}{K} = \\frac{n!}{ (n-k)!k! }$"
   ]
  },
  {
   "cell_type": "code",
   "execution_count": null,
   "id": "08cda876-feb6-4a6d-a022-c6a8653f96a9",
   "metadata": {},
   "outputs": [],
   "source": []
  },
  {
   "cell_type": "markdown",
   "id": "b6f6cc37-a808-4882-a9f4-bf9e148ad053",
   "metadata": {},
   "source": [
    "<h4>Example 1.4.17 (Club Officers)</h4>\n",
    "\n",
    "In a club with $n$ people, there are $n(n-1)(n-2)$ ways to choose a president, vice president, and treasurer, and there are:\n",
    "\n",
    "$\\binom{n}{3} = \\frac{ n(n-1)(n-2) }{3!}$ \n",
    "\n",
    "ways to choose officers without predetermined titles."
   ]
  },
  {
   "cell_type": "code",
   "execution_count": null,
   "id": "acc07469-5d8d-47c2-b368-0c06df394b3c",
   "metadata": {},
   "outputs": [],
   "source": []
  },
  {
   "cell_type": "markdown",
   "id": "08724f8c-17e3-448b-af78-20388e632584",
   "metadata": {},
   "source": [
    "<h4>Example 1.4.18 (Permutations of a Word)</h4>\n",
    "\n",
    "<b>Part A:</b>\n",
    "\n",
    "How many ways are there to permute the letters in the word LALALAAA?\n",
    "\n",
    "<i>Answer:</i>\n",
    "\n",
    "We just need to choose where the $5$ A's go, or equivalently, where the $3$ L's go. So there are:\n",
    "\n",
    "$\\binom{8}{5} = \\binom{8}{3} = \\frac{8 \\cdot 7 \\cdot 6}{3!} = 56$ permutations\n",
    "\n",
    "<b>Part B:</b>\n",
    "\n",
    "How many ways are there to permute the letters in the word STATISTICS?\n",
    "\n",
    "<i>Answer:</i>\n",
    "\n",
    "We could choose where to put the S's, then the T's, then the I's (and then the C is determined). Alternatively, we can start with $10!$ and then adjust for overcounting, dividing by $3!3!2!$ to account for the fact that the S's can be permuted among themselves in any way, and likewise for the T's and I's. This gives:\n",
    "\n",
    "$\\binom{10}{3} \\binom{7}{3} \\binom{4}{2} \\binom{2}{1} = \\frac{10!}{3!3!2!} = 50,400$ possibilities"
   ]
  },
  {
   "cell_type": "code",
   "execution_count": null,
   "id": "6bdfe80f-8aa6-4271-af55-7e50f6e2406f",
   "metadata": {},
   "outputs": [],
   "source": []
  },
  {
   "cell_type": "markdown",
   "id": "72110d7e-b420-493b-ba0f-a3494fb31186",
   "metadata": {
    "tags": []
   },
   "source": [
    "<h4>Example 1.4.19 (Binomial Theorem)</h4>\n",
    "\n",
    "The binomial theorem states that:\n",
    "\n",
    "$(x+y)^n = \\sum_{k=0}^n \\binom{n}{k} x^k y^{n-k}$\n",
    "\n",
    "for any non-negative integer $n$.\n",
    "\n",
    "We can use binomial coefficients to calculate probabilities in many problems for which the naive definition applies."
   ]
  },
  {
   "cell_type": "code",
   "execution_count": null,
   "id": "91e1c74b-2ba7-499d-8791-acf54b8ba0cb",
   "metadata": {},
   "outputs": [],
   "source": []
  },
  {
   "cell_type": "markdown",
   "id": "654ae6e2-08ba-494a-8158-fc9fa67f0c1d",
   "metadata": {},
   "source": [
    "<h4>Example 1.4.20 (Full House in Poker)</h4>\n",
    "\n",
    "What is the probability of a full house in poker?\n",
    "\n",
    "<i>Answer:</i>\n",
    "\n",
    "There are $13$ choices for what rank we have 3 of. There are $\\binom{4}{3}$ ways to choose which cards of that rank (e.g. 7s) we have. Then there are $12$ choices for what rank we have $2$ of, and $\\binom{4}{2}$ ways to choose two cards of that rank.</p>\n",
    "\n",
    "$$\\frac{ 13 \\binom{4}{3} 12 \\binom{4}{2} }{ \\binom{52}{5} } = \\frac{3744}{2598960} = 0.00144$$"
   ]
  },
  {
   "cell_type": "code",
   "execution_count": null,
   "id": "e8df959e-3f22-4d04-835f-d62d568e3990",
   "metadata": {},
   "outputs": [],
   "source": []
  },
  {
   "cell_type": "markdown",
   "id": "c3a824c9-4f38-471e-8ac3-6876ea96a0e8",
   "metadata": {},
   "source": [
    "<h4>Example 1.4.21 (Newton-Pepsys Problem)</h4>\n",
    "\n",
    "Which of the following events has the highest probability?\n",
    "\n",
    "- $A$: At least one 6 appears when $6$ fair dice are rolled\n",
    "- $B$: At least two 6's appear when $12$ fair dice are rolled\n",
    "- $C$: At least three 6's appear when $18$ fair dice are rolled\n",
    "\n",
    "<i><u>Answer to A:</u></i>\n",
    "\n",
    "Instead of counting the number of ways to obtain at least one 6, it is easier to count the number of ways to get no 6's. Getting no 6's is equivalent to sampling the numbers 1 through 5 with replacement $6$ times, so $5^6$ outcomess are favorable to $A^C$ (and therefore $6^6 - 5^6$ are favorable to $A$). Thus:\n",
    "\n",
    "$P(A) = 1 - \\frac{5^6}{6^6} \\approx 0.67$\n",
    "\n",
    "<i><u>Answer to B:</u></i>\n",
    "\n",
    "Again, we count the outcomes in $B^C$ first. There are $5^{12}$ ways to get no 6's in $12$ die rolls. There are $\\binom{12}{1} 5^{11}$ ways to get exactly one 6. We first choose which dice lands 6, then sample the numbers 1 through 5 with replacement for the other $11$ dice. Adding these, we get the number of ways to fail to obtain at least two 6's. Then:\n",
    "\n",
    "$P(B) = 1 - \\frac{ 5^{12} + \\binom{12}{1} 5^{11} }{ 6^{12} } \\approx 0.62$\n",
    "\n",
    "<i><u>Answer to C:</u></i>\n",
    "\n",
    "We count the outcomes in C, i.e., the number of ways to get zero, one, or two 6's in $18$ die rolls. There are $5^{18}$ ways to get $10$ 6's, $\\binom{18}{1} 5^{17}$ ways to get exactly one 6, and $\\binom{18}{2} 5^{16}$ ways to get exactly two 6's (choose which two dice will land 6, then decide how the other 16 dice will land).\n",
    "\n",
    "$P(C) = 1 - \\frac{ 5^{18} + \\binom{18}{1} 5^{17} + \\binom{18}{2} 5^{16} }{6^18} \\approx 0.62$\n",
    "\n",
    "Therefore, $A$ has the highest probability."
   ]
  },
  {
   "cell_type": "code",
   "execution_count": null,
   "id": "4a8eb5bf-939c-429c-ac06-bfa7e2a6337a",
   "metadata": {},
   "outputs": [],
   "source": []
  },
  {
   "cell_type": "markdown",
   "id": "9f0c763b-66f9-4adc-ad8e-35af4ca4f8c3",
   "metadata": {},
   "source": [
    "<h3>Binomial Story Proofs</h3>"
   ]
  },
  {
   "cell_type": "markdown",
   "id": "0a992b2c-ec11-40b7-b3f1-9d243b3585e0",
   "metadata": {},
   "source": [
    "<h4>Example 1.5.1 (Choosing the Complement)</h4>\n",
    "\n",
    "For any nonnegative integers $n$ and $k$ with $k \\lt n$, we have:\n",
    "\n",
    "$\\binom{n}{k} = \\binom{n}{n-k}$\n",
    "\n",
    "Consider choosing a committee of size $k$ in a group of $n$ people. We know that there are $\\binom{n}{k}$ possibilities, but another way is to specify which $n-k$ people are not on the committee, and vice versa."
   ]
  },
  {
   "cell_type": "code",
   "execution_count": null,
   "id": "3201f5c2-0dfd-4e44-87dc-ff04a1b01fff",
   "metadata": {},
   "outputs": [],
   "source": []
  },
  {
   "cell_type": "markdown",
   "id": "9b5fb72b-c442-43e7-9e39-eca170d527b6",
   "metadata": {},
   "source": [
    "<h4>Example 1.5.2 (The Team Captain)</h4>\n",
    "\n",
    "$n \\binom{n-1}{k-1} = k \\binom{n}{k}$\n",
    "\n",
    "Consider a group of n people from which a team of $k$ will be chosen, one of whom will be team captain. We could first choose the team captain and then choose the remaining $k-1$ team members. Equivalently, we could first choose the $k$ team members and then choose one to be captain."
   ]
  },
  {
   "cell_type": "code",
   "execution_count": null,
   "id": "72bd846e-c645-4b29-86c9-f401ccd06a75",
   "metadata": {},
   "outputs": [],
   "source": []
  },
  {
   "cell_type": "markdown",
   "id": "22f87a97-769e-48ef-8d66-708c2fc26099",
   "metadata": {},
   "source": [
    "<h4> 1.5.3 (Vandermonde's Identity)</h4>\n",
    "\n",
    "$\\left( \\binom{m+n}{k} \\right) = \\sum_{j=0}^k \\binom{m}{j} \\binom{n}{k-j}$\n",
    "\n",
    "Consider a student organization consisting of $m$ juniors and $n$ seniors, from which a committee of size $k$ will be chosen. There are $\\left( \\binom{m+n}{k} \\right)$ possibilities. If there are $j$ juniors in the committee, then there must be $k-j$ seniors in the committee."
   ]
  },
  {
   "cell_type": "code",
   "execution_count": null,
   "id": "e2f926df-b39e-40fc-b8d2-c03c0bda7659",
   "metadata": {},
   "outputs": [],
   "source": []
  },
  {
   "cell_type": "markdown",
   "id": "c249fe1e-c3b1-40d5-9372-124f1104fb86",
   "metadata": {},
   "source": [
    "<h3>Non-Naive Definition of Probability</h3>"
   ]
  },
  {
   "cell_type": "markdown",
   "id": "646e5179-48df-4ae4-81d9-f507f157ad6e",
   "metadata": {},
   "source": [
    "Moving beyond the naivee definition, we define probability to be a function that takes an event and assigns it to a real number between 0 and 1. A valid probability function satisfies two axioms.\n",
    "\n",
    "1. $P(\\emptyset) = 0$, $P(S) = 1$\n",
    "\n",
    "2. If $A_1, A_2, \\ldots, A_n$ are disjoint events, then:\n",
    "<ul>\n",
    "<li>$P \\left( \\bigcup_{j=1}^{\\infty} A_j \\right) = \\sum_{j=1}^{\\infty} P(A_j)$\n",
    "</ul>\n",
    "\n",
    "Useful properties like $P(A^C) = 1 - P(A)$ can be derived from these axioms. For any event $A = \\{A_1, \\ldots, A_n\\}$, we have the inclusion-exclusion formula:\n",
    "\n",
    "$P \\left( \\bigcup_{i=1}^n A_i \\right) = \\frac{n}{n} - \\frac{ \\binom{n}{2} }{ n(n-1) } + \\frac{ \\binom{n}{3} }{ n(n-1)(n-2) } - \\ldots + (-1)^{n+1} \\cdot \\frac{1}{n!}$"
   ]
  },
  {
   "cell_type": "code",
   "execution_count": null,
   "id": "827551cf-1031-49df-b1e2-0e758e607946",
   "metadata": {},
   "outputs": [],
   "source": []
  },
  {
   "cell_type": "markdown",
   "id": "f8b1bf6f-5486-4637-be3b-533a93195325",
   "metadata": {},
   "source": [
    "<h4>Example 1.6.4 (de Montmort's Matching Problem)</h4>\n",
    "\n",
    "Consider a deck of $n$ cards labeled $1$ through $n$. You flip the cards one by one, speaking the numbers $1$ through $n$ as you do. You win the game if, at some point, the number you say aloud is the number on the card being flipped over. What is the probability of winning?\n",
    "\n",
    "<i>Answer:</i>\n",
    "\n",
    "Let $A_i$ be the event that the $i^{th}$ card in the deck has the number $i$ written on it. As long as at least one card has a matching position in the deck. We are interested in the probability of the union $A_1 \\cup A_2 \\cup \\ldots \\cup A_n$.\n",
    "\n",
    "To find the probability of the union, we'll use inclusion/exclusion. $P(A_i) = \\frac{1}{n}$ for all $i$. This is because with the naive definition of probability, using the full sample space, there are n! possible orderings of the deck, all equally likely, and $(n-1)!$ of these are favorable to $A_i$. Another way to see this is by symmetry: the card numbered $i$ is equally likely to be in any of the n positions in the deck, so it has probability $1/n$ of being in the $i^{th}$ spot.\n",
    "\n",
    "Secondly, \n",
    "\n",
    "$P(A_i \\cap A_j) = \\frac{(n-2)!}{n!} = \\frac{1}{n(n-1)}$, \n",
    "\n",
    "since we require the cards numbered $i$ and $j$ to be in the $i^{th}$ and $j^{th}$ spots in the deck to allow the remaining $n-2$ cards to be in any order, so $(n-2)!$ out of $n!$ possibilities are favorable to $A_i \\cap A_j$. Similarly, \n",
    "\n",
    "$P(A_i \\cap A_J \\cap A_k) = \\frac{1}{n(n-1)(n-2)}$\n",
    "\n",
    "and the pattern continues for intersections of 4 events, etc.\n",
    "\n",
    "In the inclusion-exclusion formula, there are $n$ terms involving one event, $\\binom{n}{2}$ terms involving two events, $\\binom{n}{3}$ terms involving 3 events, and so forth. By the symmetry of the problem, all $n$ terms of the form $P(A)$ are equal, all $\\binom{n}{2}$ terms of the form $P(A_i \\cap A_j)$ are equal, and the expression simplifies to:\n",
    "\n",
    "$P \\left( \\bigcup_{i=1}^n \\right) = \\frac{n}{n} - \\frac{ \\binom{n}{2} }{ n(n-1) } + \\frac{ \\binom{n}{3} }{ n(n-1)(n-2) } - \\ldots + (-1)^{n+1} \\cdot \\frac{1}{n!}$\n",
    "\n",
    "Compare this to the Taylor series for $\\frac{1}{e}$:\n",
    "\n",
    "$e^{-1} = 1 - \\frac{1}{1!} + \\frac{1}{2!} - \\frac{1}{3!} + \\ldots$\n",
    "\n",
    "For large $n$, the probability of winning the game is extremely close to $1-1/e$, or about $0.63$. As $n$ grows, the probability approaches $1-1/e$ rather than increasing or decreasing toward $1$ or $0$. With a lot of cards in the deck, the number of possible locations for matching cards increases, while the probability of any particular match decreases, and these two forces offset each other and balance.\n",
    "\n",
    "Inclusion-exclusion is a very general formula for the probability of a union of events, but it helps when there is symmetry among the events $A_j$. In general, when symmetry is lacking, we should try other methods."
   ]
  },
  {
   "cell_type": "code",
   "execution_count": null,
   "id": "08cec20b-30a0-456d-b2f4-a900e3ae5d0a",
   "metadata": {},
   "outputs": [],
   "source": []
  },
  {
   "cell_type": "code",
   "execution_count": null,
   "id": "4dca5b24-f2db-4c04-ab54-a40c9e2771e6",
   "metadata": {},
   "outputs": [],
   "source": []
  },
  {
   "cell_type": "markdown",
   "id": "ef72025f-39c1-44f6-bd9f-97d950c3687a",
   "metadata": {},
   "source": [
    "# Exercises"
   ]
  },
  {
   "cell_type": "markdown",
   "id": "6da5234e-9b01-4ecd-a3f8-66005f5ef6bb",
   "metadata": {
    "tags": []
   },
   "source": [
    "<h3>Counting Exercises</h3>"
   ]
  },
  {
   "cell_type": "markdown",
   "id": "3cc6f2cf-4471-4dd9-8d81-da7edfc6a78e",
   "metadata": {},
   "source": [
    "<h4>Exercise 8</h4>\n",
    "\n",
    "<b>Part A:</b>\n",
    "\n",
    "How many ways are there to split a dozen people into $3$ teams, where one team has $2$ people, and the other two teams have $5$ people each?\n",
    "\n",
    "<i>Answer:</i>\n",
    "\n",
    "Pick any $2$ of the $12$ people to make the $2$-person team, and then any $5$ of the remaining $10$ for the first team of $5$, and then the remaining $5$ are on the other team of $5$. This overcounts by a factor of $2$, since there is no designated \"first\" team of $5$. So, the number of possibilities is:\n",
    "\n",
    "$\\frac{ \\binom{12}{2} \\binom{10}{5} }{2} = 8316$\n",
    "\n",
    "Alternatively, ask the $12$ people to line up, and let the first $2$ be the team of $2$, the next $5$ be a team of $5$, and then the last $5$ be a team of $5$. There are 12! ways for them to line up, but it does not matter which order they line up in within each group, nor does the order of the $2$ teams of $5$ matter, so the number of possibilities is:\n",
    "\n",
    "$\\frac{12!}{ 2!5!5! \\cdot 2 } = 8516$\n",
    "\n",
    "<b>Part B:</b>\n",
    "\n",
    "How many ways are there to split a dozen people into $3$ teams, where each team has $4$ people?\n",
    "\n",
    "<i>Answer:</i>\n",
    "\n",
    "By either of the approaches above, there are $\\frac{12!}{4!4!4!}$ ways to divide the people into a team $A$, $B$, and $C$. Since it doesn't matter which team is which, this overcounts by a factor of $3!$, so the number of possibilities is:\n",
    "\n",
    "$\\frac{12!}{ 4!4!4!3! } = 5775$"
   ]
  },
  {
   "cell_type": "code",
   "execution_count": null,
   "id": "89bdb39e-287f-4205-8c47-22253043170b",
   "metadata": {},
   "outputs": [],
   "source": []
  },
  {
   "cell_type": "markdown",
   "id": "ef302b77-000c-4c1e-af6f-1fab9c8593be",
   "metadata": {},
   "source": [
    "<h4>Exercise 9</h4>\n",
    "\n",
    "How many paths are there from the point $(0,0)$ to $(210,211)$, where each step consists of going one unit up or one unit to the right?\n",
    "\n",
    "<i>Answer:</i>\n",
    "\n",
    "Encode a path as a sequence of $U$'s and $R$'s, like $URU...UR$. where $U$ and $R$ stand for up and right. The sequence must consist of $100$ $R$'s and $111$ $U$'s, and to determine the sequence we just need to specify where the $R$'s are located. So, there are $\\binom{221}{110}$ possible paths."
   ]
  },
  {
   "cell_type": "code",
   "execution_count": null,
   "id": "5c84ebe2-dee9-432a-9619-352716483e33",
   "metadata": {},
   "outputs": [],
   "source": []
  },
  {
   "cell_type": "markdown",
   "id": "c89847d3-db9b-4147-9961-a1564bc995f7",
   "metadata": {},
   "source": [
    "<h3>Story Proof Exercises</h3>"
   ]
  },
  {
   "cell_type": "markdown",
   "id": "39e2998d-1c63-4f74-86b0-58e8056978c9",
   "metadata": {
    "tags": []
   },
   "source": [
    "<h4>Exercise 15</h4>\n",
    "\n",
    "Give a story proof that $\\sum_{k=0}^n \\binom{n}{k} = 2^n$\n",
    "\n",
    "<i>Answer:</i>\n",
    "\n",
    "Consider picking a subset of $n$ people. There are $\\binom{n}{k}$ choices with size $k$, on the one hand, and on the other hand, there are $2^n$ subsets by the multiplication rule."
   ]
  },
  {
   "cell_type": "code",
   "execution_count": null,
   "id": "5ad0140e-c74d-429c-90ef-7e26ca538014",
   "metadata": {},
   "outputs": [],
   "source": []
  },
  {
   "cell_type": "markdown",
   "id": "ff5e1399-0e65-41fa-86f1-2926dbac7c8e",
   "metadata": {},
   "source": [
    "<h3>Naive Definition of Probability Exercises</h3>"
   ]
  },
  {
   "cell_type": "markdown",
   "id": "3b1a5615-383a-4b10-9c5f-1f52acce3746",
   "metadata": {},
   "source": [
    "<h4>Exercise 24</h4>\n",
    "\n",
    "A family has $6$ children, consisting of $3$ boys and $3$ girls. Assuming that all birth orders are equally likely, what is the problem that the $3$ eldest children are the $3$ girls?\n",
    "\n",
    "<i>Answer:</i>\n",
    "\n",
    "Label the girls as $1,2,3$, and the boys as $4,5,6$. The birth order is a permutation of $1,2,3,4,5,6$. The number of possible orders of birth is $6!$. We need to count how many of these have all of $1,2,3$ appear before all of $4,5,6$. This means that the sequence must be a permutation of $1,2,3$, followed by a permutation of $4,5,6$.\n",
    "\n",
    "$P(\\text{3 Girls are Eldest}) = \\frac{(3!)}{6!} = 0.05$\n",
    "\n",
    "Alternatively, we can use the fact that there are $\\binom{6}{3}$ ways to choose where the girls appear in the birth order (without taking into account the ordering). These are all equally likely, so the probability is $\\frac{1}{\\binom{6}{3}} = 0.05$."
   ]
  },
  {
   "cell_type": "code",
   "execution_count": null,
   "id": "87f4ff04-9f2b-4079-97f0-d60ec386e706",
   "metadata": {},
   "outputs": [],
   "source": []
  },
  {
   "cell_type": "markdown",
   "id": "5a949e9e-48ca-48b7-8ac6-9e252d0a91e5",
   "metadata": {},
   "source": [
    "<h4>Exercise 25</h4>\n",
    "\n",
    "A city with $6$ districts has $6$ robberies in a particular week. Assume the robberies are located randomly, with all possibilities for where each robbery occurred to be equally likely. What is the probability that some district had more than $1$ robbery?\n",
    "\n",
    "<i>Answer:</i>\n",
    "\n",
    "There are $6^6$ possible configurations for which robbery occurred where. There are $6!$ configurations for where each district had exactly $1$ of the $6$, so the probability of the complement of the desired event is $6!/6^6 \\approx 0.9846$.\n",
    "\n",
    "This also says that if a fair dice is rolled $6$ times, there is over a 98% chance that some value is repeated."
   ]
  },
  {
   "cell_type": "code",
   "execution_count": null,
   "id": "51a7f808-086b-4391-9624-cfaa646c4c41",
   "metadata": {},
   "outputs": [],
   "source": []
  },
  {
   "cell_type": "markdown",
   "id": "fe7618d4-8e5f-4ebc-b116-31bc2a81a035",
   "metadata": {},
   "source": [
    "<h4>Exercise 26</h4>\n",
    "\n",
    "A college has $10$ non-overlapping time slots for its courses, and assigns courses to time slots randomly and independently. A student randomly chooses $3$ of the courses to enroll in. What is the probability there is conflict in the student's schedule?\n",
    "\n",
    "<i>Answer:</i>\n",
    "\n",
    "The problem of no conflict is $\\frac{10 \\cdot 9 \\cdot 8}{10^3} = 0.72$. So the probability of there being at least one scheduling conflict is $0.28$."
   ]
  },
  {
   "cell_type": "code",
   "execution_count": null,
   "id": "29d5974d-b1bd-43ba-9c47-ee292e612b6f",
   "metadata": {},
   "outputs": [],
   "source": []
  },
  {
   "cell_type": "markdown",
   "id": "63c7fe82-52c7-4d18-8032-12f1959c7bdc",
   "metadata": {},
   "source": [
    "<h4>Exercise 27</h4>\n",
    "\n",
    "For each part below, decide whether the blank should be filled in with $=$, $\\lt$, or $\\gt$, and explain.\n",
    "\n",
    "<b>Part A:</b>\n",
    "\n",
    "Probability that the sum of $4$ dice ross is $21$ ___ Probability that sum is $22$\n",
    "\n",
    "<i>Answer:</i>\n",
    "\n",
    "Greater Than. All ordered outcomes are equally likely. e.g., with two dice, obtaining a total of $9$ is more likely that obtaining a total of $10$ since there are two ways to get a $5$ and a $4$, and only one way to get two $5$'s.\n",
    "\n",
    "To get a $21$, the outcome must be a permutation of $(6,6,6,3)$ ($4$ possibilities), or $(6,6,5,4)$ ($4!/2 = 2$ possibilities).\n",
    "\n",
    "To get a $22$, the outcome must be a permutation of $(6,6,6,4)$ ($4$ possibilities) or $(6,6,5,5)$ ($4!/2^2 = 6$ possibilities).\n",
    "\n",
    "So getting a $21$ is twice as likely as getting a $22$.\n",
    "\n",
    "\n",
    "<b>Part B:</b>\n",
    "\n",
    "Probability that a random $2$-letter word is a palindrome ___ Probability that a random $3$-letter word is a palindrome\n",
    "\n",
    "<i>Answer:</i>\n",
    "\n",
    "The probabilities are equal, since for both $2$-letter and $3$-letter words, being a palindrome means that the first and last letter are the same."
   ]
  },
  {
   "cell_type": "code",
   "execution_count": null,
   "id": "b52122a9-3828-4a59-a74a-ddcabf200645",
   "metadata": {},
   "outputs": [],
   "source": []
  },
  {
   "cell_type": "markdown",
   "id": "66d8fe13-39ae-4b3d-9845-196b473e1b23",
   "metadata": {},
   "source": [
    "<h4>Exercise 32</h4>\n",
    "\n",
    "A random $5$-card poker hand is dealt from a standard deck of cards. Find the probability of each of the following possibilities:\n",
    "\n",
    "<b>Part A:</b>\n",
    "\n",
    "A flush, but not a royal flush\n",
    "\n",
    "<i>Answer:</i>\n",
    "\n",
    "A flush can occur in any of the 4 suits. There are $\\binom{13}{5}$ ways to choose the cards in that suit, except for one way to have a royal flush.\n",
    "\n",
    "$\\frac{ 4 \\left( \\binom{13}{5} - 1 \\right) }{ \\binom{52}{5} }$\n",
    "\n",
    "\n",
    "<b>Part B:</b>\n",
    "\n",
    "Two-pair\n",
    "\n",
    "<i>Answer:</i>\n",
    "\n",
    "Choose the two ranks of the pairs, which specific cards to have for those $4$ cards, and then choose the extraneous card, which can be any of the $52-8$ cards not of the two chosen ranks.\n",
    "\n",
    "$\\frac{ \\binom{13}{2} \\cdot \\binom{4}{2}^2 \\cdot 44 }{ \\binom{52}{5} }$"
   ]
  },
  {
   "cell_type": "code",
   "execution_count": null,
   "id": "1ab2539a-2dec-4ac2-8608-3baf820040ca",
   "metadata": {},
   "outputs": [],
   "source": []
  },
  {
   "cell_type": "markdown",
   "id": "37507c03-b027-47ca-ae68-4ce1bb239369",
   "metadata": {},
   "source": [
    "<h4>Exercise 40</h4>\n",
    "\n",
    "A norepeatword is a sequence of at least one (and possibly all) of the 26 letters, with repetitions not allowed. e.g., 'course' is a norepeatword, 'statistics' is not. Order matters, i.e., 'course' is not the same as 'source'.\n",
    "\n",
    "A norepeatword is chosen randomly, with all norepeatwords equally likely. Show that the probability that it uses all $26$ letters is close to $1/e$.\n",
    "\n",
    "<i>Answer:</i>\n",
    "\n",
    "The number of norepeatwords having all $26$ letters is the number of ordered arrangements of $26$ letters, $26!$. To construct a norepeatword with $k \\le 26$ letters, we first select $k$ letters from the alphabet ($\\binom{26}{k}$ selections), and then arrange them into a word ($k!$ arrangements). Hence, there are $\\binom{26}{k}k!$ norepeatwords, with $k$ letters, with $k$ ranging $1$ to $26$. With all norepeatwords equally likely, we have:\n",
    "\n",
    "$P(\\text{norepeatword having 26 letters}) =$ \n",
    "\n",
    "$\\frac{ \\text{num norepeatwords having 26 letters} }{ \\text{num no repeatwords} }$\n",
    "\n",
    "$= \\frac{26!}{ \\sum_{k=1}^26 \\binom{26}{k}k! }$\n",
    "\n",
    "$= \\frac{26!}{ \\sum_{k=1}^26 \\frac{26!}{ k!(6-k)! } k! }$\n",
    "\n",
    "$= \\frac{1}{ \\frac{1}{25!} + \\frac{1}{24} + \\ldots + \\frac{1}{1!} + 1 }$\n",
    "\n",
    "The denominator is the first $26$ terms in the Taylor series:\n",
    "\n",
    "$e^x = 1 + x + \\frac{x^2}{2!} + \\ldots$, \n",
    "\n",
    "evaluated at $x=1$. Thus, the probability is approximately $1/e$."
   ]
  },
  {
   "cell_type": "code",
   "execution_count": null,
   "id": "fd909b62-cd15-4172-bcb0-49e83c6bee3b",
   "metadata": {},
   "outputs": [],
   "source": []
  },
  {
   "cell_type": "markdown",
   "id": "5430e7ce-0bcc-4b3d-be63-e35bff674005",
   "metadata": {},
   "source": [
    "<h3>Mixed Practice Exercises</h3>"
   ]
  },
  {
   "cell_type": "markdown",
   "id": "fa9ceb2a-63a1-40ed-9fc1-75e17269897a",
   "metadata": {},
   "source": [
    "<h4>Exercise 59</h4>\n",
    "\n",
    "There are $100$ passengers lined up to board an airplane with $100$ seats (with each seat assigned to one of the passengers). The first passenger in line decides to sit in a randomly chosen seat (with all seats equally likely).\n",
    "\n",
    "Each subsequent passenger takes his or her assigned seat if available, and otherwise sits in a random availalble seat. What is the probability that the last passenger in line gets to sit in his or her assigned seat?\n",
    "\n",
    "Hint: call the seat assigned to the $j^{th}$ passenger line 'seat $j$'. What are the possibilities for which seats are available to the last passenger in line, and what is the probability of each of these possibilities?\n",
    "\n",
    "<i>Answer:</i>\n",
    "\n",
    "The seat for the last passenger is either seat $1$ or seat $100$; e.g., seat $42$ cannot be available, because the $42$nd passenger in line would have sat there if possible. Seat $1$ and $100$ are equally likely to be available to the last passenger, since the previous $99$ passengers view these two seats symmetrically. So the probability that the last passenger gets seat $100$ is $1/2$."
   ]
  }
 ],
 "metadata": {
  "kernelspec": {
   "display_name": "Python 3 (ipykernel)",
   "language": "python",
   "name": "python3"
  },
  "language_info": {
   "codemirror_mode": {
    "name": "ipython",
    "version": 3
   },
   "file_extension": ".py",
   "mimetype": "text/x-python",
   "name": "python",
   "nbconvert_exporter": "python",
   "pygments_lexer": "ipython3",
   "version": "3.11.5"
  }
 },
 "nbformat": 4,
 "nbformat_minor": 5
}
