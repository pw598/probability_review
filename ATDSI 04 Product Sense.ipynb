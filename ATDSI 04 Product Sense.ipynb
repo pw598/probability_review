{
 "cells": [
  {
   "cell_type": "markdown",
   "id": "3854a74b-1937-4587-b69a-57185e283a14",
   "metadata": {},
   "source": [
    "# Product Sense"
   ]
  },
  {
   "cell_type": "markdown",
   "id": "1ff07268-5984-49ec-8937-006cf9b197bc",
   "metadata": {},
   "source": [
    "<h3>4 Most Common Product Interview Questions</h3>\n",
    "\n",
    "1. Defining a product metric\n",
    "    - If a product manager thought it a good idea to change an existing feature, what metrics would you analyze to validate their hypothesis?\n",
    "\n",
    "2. Diagnosing a KPI/metric change\n",
    "    - How would you investigate the root cause behind a metric going up or down?\n",
    "\n",
    "3. Brainstorming product features\n",
    "    - Should a company launch a particular product? Why or why not? What feature ideas do you have to improve the performance of a certain matrix.\n",
    "\n",
    "4. Designing A/B tests\n",
    "    - Pitfalls, setup"
   ]
  },
  {
   "cell_type": "code",
   "execution_count": null,
   "id": "e4806e66-712d-4844-8b9c-780da21b72e3",
   "metadata": {},
   "outputs": [],
   "source": []
  },
  {
   "cell_type": "markdown",
   "id": "7ae5be5a-28ce-4144-a66c-c4b94fbf79d3",
   "metadata": {},
   "source": [
    "<h3>Metrics for Product and Case Interviews</h3>\n",
    "\n",
    "- User Acquisition Funnel\n",
    "1. Acquisition\n",
    "2. Activation\n",
    "3. Retention\n",
    "4. Referral\n",
    "5. Revenue"
   ]
  },
  {
   "cell_type": "code",
   "execution_count": null,
   "id": "1271370b-cfe5-456c-9cb5-1d98ed608714",
   "metadata": {},
   "outputs": [],
   "source": []
  },
  {
   "cell_type": "markdown",
   "id": "17206b10-65eb-4373-8fe4-0fcf98faf166",
   "metadata": {},
   "source": [
    "<h3>3-Step Framework for Answering Product Metrics Definition Questions</h3>\n",
    "\n",
    "- Step 1: Clarify the product and its purpose\n",
    "- Step 2: Explain the product and business goals\n",
    "- Step 3: Define success metrics\n",
    "    - Acquisition metrics\n",
    "    - Activation metrics\n",
    "    - Engagement metrics\n",
    "    - Revenue metrics"
   ]
  },
  {
   "cell_type": "code",
   "execution_count": null,
   "id": "bf65eba8-e544-4c5e-b9e5-2a87ac4ffebc",
   "metadata": {},
   "outputs": [],
   "source": []
  },
  {
   "cell_type": "markdown",
   "id": "bf3ac04a-9f70-4bd7-b174-631f4fded144",
   "metadata": {},
   "source": [
    "<h3>4-Step Framework for Diagnosing a Metric Change</h3>\n",
    "\n",
    "- Step 1: Scope/clarify\n",
    "    - Metric definition nuances\n",
    "    - Importance\n",
    "        - Is this metric consequential?\n",
    "    - Timeframe \n",
    "        - Granularity, ongoing?\n",
    "    - Magnitude\n",
    "</br>\n",
    "\n",
    "- Step 2: Hypothesize contributing factors\n",
    "    - Accidental, natural, internal, external\n",
    "\n",
    "\n",
    "- Step 3: Validate each factor\n",
    "\n",
    "- Step 4: Classify each factor\n",
    "    - Root cause\n",
    "    - Contributing factor\n",
    "    - Correlated result\n",
    "    - Unrelated factor"
   ]
  },
  {
   "cell_type": "code",
   "execution_count": null,
   "id": "d913cf83-7ae5-4651-b429-3702447695e6",
   "metadata": {},
   "outputs": [],
   "source": []
  },
  {
   "cell_type": "markdown",
   "id": "43a37f54-7ca8-4194-a350-5f3676857a8c",
   "metadata": {},
   "source": [
    "<h3>A/B Testing and Experimental Design</h3>\n",
    "\n",
    "Overview\n",
    "1. Pick a metric to test\n",
    "2. Define thresholds\n",
    "3. Decide on sample size and experiment length\n",
    "4. Assign groups"
   ]
  },
  {
   "cell_type": "code",
   "execution_count": null,
   "id": "94f05fdf-e2d5-43d0-ab19-f242f3d81760",
   "metadata": {},
   "outputs": [],
   "source": []
  },
  {
   "cell_type": "markdown",
   "id": "55941452-fab9-4c54-81c8-e3501efd8d09",
   "metadata": {},
   "source": [
    "<h3>A/B Testing Considerations</h3>\n",
    "\n",
    "- When not to A/B test\n",
    "    - Lack of infrastructure\n",
    "    - Lack of impact\n",
    "    - Lack of traffic\n",
    "    - Lack of conviction\n",
    "    - Lack of relation\n",
    "\n",
    "\n",
    "In cases where A/B testing is not useful, we can:\n",
    "- Conduct user experience research via focus groups and surveys\n",
    "- Analyze user activity logs\n",
    "- Make the product change and retrospectively analyze\n",
    "\n",
    "\n",
    "- Dealing with Non-Normality\n",
    "    - Bootstrapping\n",
    "    - Non-parametric tests\n",
    "    - Gather more data\n",
    "\n",
    "\n",
    "- Dealing with Multiple Tests Simultaneously\n",
    "- Dealing with Network Effects (Interactions)\n",
    "- Dealing with Novelty Effects\n",
    "    - e.g., PR hype\n",
    "- Launch with A/B Test Holdouts"
   ]
  },
  {
   "cell_type": "code",
   "execution_count": null,
   "id": "f2e634b4-14f4-4f18-bc39-9941dbed1776",
   "metadata": {},
   "outputs": [],
   "source": []
  },
  {
   "cell_type": "code",
   "execution_count": null,
   "id": "7f2a5b7a-52af-4bea-bc3b-9c30ed86df3f",
   "metadata": {},
   "outputs": [],
   "source": []
  },
  {
   "cell_type": "markdown",
   "id": "d2c5041c-2b47-4587-95c6-113285c2a3f8",
   "metadata": {},
   "source": [
    "# Problems"
   ]
  },
  {
   "cell_type": "code",
   "execution_count": null,
   "id": "c2dc8315-02b2-4201-be3a-c43bd04b76ba",
   "metadata": {},
   "outputs": [],
   "source": []
  },
  {
   "cell_type": "code",
   "execution_count": null,
   "id": "b697de54-7f18-4652-85c2-5358169a47df",
   "metadata": {},
   "outputs": [],
   "source": []
  },
  {
   "cell_type": "code",
   "execution_count": null,
   "id": "8c46e5e4-7abf-4a6c-9a01-3fa362173d17",
   "metadata": {},
   "outputs": [],
   "source": []
  },
  {
   "cell_type": "code",
   "execution_count": null,
   "id": "39fff7c7-ec47-42fa-adf3-601809c3aa8c",
   "metadata": {},
   "outputs": [],
   "source": []
  },
  {
   "cell_type": "code",
   "execution_count": null,
   "id": "b6a8fd69-01d7-4725-9c6a-32a17a17e5d6",
   "metadata": {},
   "outputs": [],
   "source": []
  },
  {
   "cell_type": "code",
   "execution_count": null,
   "id": "2efce76c-f8b9-4f04-82fa-df0cf58c13dc",
   "metadata": {},
   "outputs": [],
   "source": []
  }
 ],
 "metadata": {
  "kernelspec": {
   "display_name": "Python 3 (ipykernel)",
   "language": "python",
   "name": "python3"
  },
  "language_info": {
   "codemirror_mode": {
    "name": "ipython",
    "version": 3
   },
   "file_extension": ".py",
   "mimetype": "text/x-python",
   "name": "python",
   "nbconvert_exporter": "python",
   "pygments_lexer": "ipython3",
   "version": "3.11.5"
  }
 },
 "nbformat": 4,
 "nbformat_minor": 5
}
