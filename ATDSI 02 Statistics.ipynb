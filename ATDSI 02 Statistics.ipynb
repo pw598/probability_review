{
 "cells": [
  {
   "cell_type": "markdown",
   "id": "63bee482-c7ee-40d2-a3c8-e26ab88828d2",
   "metadata": {},
   "source": [
    "# Statistics"
   ]
  },
  {
   "cell_type": "markdown",
   "id": "be3bf730-81d2-4d16-badd-e57ee337a317",
   "metadata": {},
   "source": [
    "<h3>Random Variables</h3>\n",
    "\n",
    "<h4>Expected Value</h4>\n",
    "\n",
    "The expectation (average value, mean) of a random variable is given by the integral of the value of $X$ with its PDF.\n",
    "\n",
    "$\\mu = E[X] = \\int_{-\\infty}^{\\infty} x f_X(x) ~dx$\n",
    "\n",
    "\n",
    "<h4>Variance</h4>\n",
    "\n",
    "$Var(X) = E[(X-E[X])^2] = E[X^2] - (E[X])^2$\n",
    "\n",
    "\n",
    "<h4>Standard Deviation</h4>\n",
    "\n",
    "$\\sigma = \\sqrt{Var(X)}$\n",
    "\n",
    "\n",
    "<h4>Covariance</h4>\n",
    "\n",
    "$Cov(X,Y) = E[(X-E[X])(Y-E[Y])] = E[XY] - E[X] E[Y]$\n",
    "\n",
    "\n",
    "<h4>Correlation</h4>\n",
    "\n",
    "$Corr(X,Y) = \\frac{ Cov(X,Y) }{ \\sqrt{Var(X) Var(Y)} }$"
   ]
  },
  {
   "cell_type": "code",
   "execution_count": null,
   "id": "08ec1216-14e1-4f22-8a17-fbf90caf2102",
   "metadata": {},
   "outputs": [],
   "source": []
  },
  {
   "cell_type": "markdown",
   "id": "3aec9464-e35c-4988-9404-18df89277b35",
   "metadata": {},
   "source": [
    "<h3>Law of Large Numbers</h3>\n",
    "\n",
    "If you sample a random variable independently a large number of times, the measured average value should converge to the random variable's true expectation."
   ]
  },
  {
   "cell_type": "code",
   "execution_count": null,
   "id": "8394e0d4-5540-4cab-9e95-804572d23c52",
   "metadata": {},
   "outputs": [],
   "source": []
  },
  {
   "cell_type": "markdown",
   "id": "fc9cab62-5ddf-486b-a0af-cc8d72ed862d",
   "metadata": {},
   "source": [
    "<h3>Central Limit Theorem</h3>\n",
    "\n",
    "If you repeatedly sample a random variable a large number of times, the distribution of the sample mean will approach a normal distribution regardless of the initial distribution of the random variable."
   ]
  },
  {
   "cell_type": "code",
   "execution_count": null,
   "id": "df708e7a-8e7a-4dfd-b495-fb605d76eda4",
   "metadata": {},
   "outputs": [],
   "source": []
  },
  {
   "cell_type": "markdown",
   "id": "64f6c26c-dfa9-4d77-a532-3e98b73e0aa1",
   "metadata": {},
   "source": [
    "<h3>Type I and II Errors</h3>\n",
    "\n",
    "Type I = FP, Type II = FN\n",
    "\n",
    "$1-\\alpha$ is the confidence level, $1-\\beta$ is the power."
   ]
  },
  {
   "cell_type": "code",
   "execution_count": null,
   "id": "aa95c9e4-e437-4299-a033-277fc62e12db",
   "metadata": {},
   "outputs": [],
   "source": []
  },
  {
   "cell_type": "markdown",
   "id": "4b9908b2-1633-4e69-a591-81f7b3f52207",
   "metadata": {},
   "source": [
    "<h2>MLE and MAP</h2>\n",
    "\n",
    "In MLE, the goal is to estimate the most likely parameters given a likelihood function:\n",
    "\n",
    "$\\theta_{MLE} = argmax ~L(\\theta), where L(\\theta) = f_n(x_1 \\ldots x_n | \\theta)$\n",
    "\n",
    "If the values of X are assumed to be IID, then the likelihood function becomes the following:\n",
    "\n",
    "$L(\\theta) = \\prod_{i+1}^n f(x_i|\\theta)$\n",
    "\n",
    "The natural logarithm is then taken prior to calculating the maximum, changing the operation from a product to a sum.\n",
    "\n",
    "$log L(\\theta) = \\sum_{i=1}^n log f(x_i | \\theta)$\n",
    "\n",
    "MAP assumes a prior distribution:\n",
    "\n",
    "$\\theta_{MAP} = argmax g(\\theta) f(x_1 \\ldots x_n | \\theta)$\n",
    "\n",
    "..."
   ]
  },
  {
   "cell_type": "code",
   "execution_count": null,
   "id": "bf7a4579-71ba-44d8-902c-c68868c5e06d",
   "metadata": {},
   "outputs": [],
   "source": []
  },
  {
   "cell_type": "code",
   "execution_count": null,
   "id": "f8c078ce-d501-43ac-9789-4fa05070e330",
   "metadata": {},
   "outputs": [],
   "source": []
  },
  {
   "cell_type": "markdown",
   "id": "1ffa51eb-00c3-4141-ba20-8d772d1c507b",
   "metadata": {},
   "source": [
    "# Problems"
   ]
  },
  {
   "cell_type": "markdown",
   "id": "a5621315-e595-41a8-b769-86cdbef8f2f1",
   "metadata": {},
   "source": [
    "<h4>Question 1</h4>\n",
    "\n",
    "Explain the Central Limit Theorem, and why it is useful\n",
    "\n",
    "<i>Answer:</i>\n",
    "\n",
    "The CLT states that if any random variable, regardless of distribution, is sampled a large enough number of times, the sample mean will be approximately normally distributed. This allows for studying the properties for any statistical distribution as long as there is a large enough sample size."
   ]
  },
  {
   "cell_type": "code",
   "execution_count": null,
   "id": "890b4966-f45c-49e2-89b2-6bfb87218b2f",
   "metadata": {},
   "outputs": [],
   "source": []
  },
  {
   "cell_type": "markdown",
   "id": "8ec17900-9380-499d-a3fb-e92455829336",
   "metadata": {},
   "source": [
    "<h4>Question 2</h4>\t\t\n",
    "\n",
    "How would you explain a confidence interval to a non-technical audience?\n",
    "\n",
    "<i>Answer:</i>\n",
    "\n",
    "Confidence intervals are a range of values with a lower and upper bound such that if you were to sample the parameter of interest a large number of times, the $95\\%$ confidence interval would contain the true value of this parameter $95\\%$ of the time. We can construct a confidence interval using the sample deviation and sample mean."
   ]
  },
  {
   "cell_type": "code",
   "execution_count": null,
   "id": "1935f86e-6deb-4fe9-b848-55b91a35d62d",
   "metadata": {},
   "outputs": [],
   "source": []
  },
  {
   "cell_type": "markdown",
   "id": "06ac5c8c-88e1-4928-a9ce-057b18f9e642",
   "metadata": {},
   "source": [
    "<h4>Question 3</h4>\n",
    "\n",
    "What are some common pitfalls encountered in A/B testing?\n",
    "\n",
    "<i>Answer:</i>\n",
    "\n",
    "- Groups may not be balanced, leading to highly skewed results. Balance is needed for all dimensions of the groups, because otherwise the potentially statistically significant results from the test may be due to specific factors that were not controlled for.\n",
    "- Not running an experiment for long enough.\n",
    "- Dealing with multiple tests is important because there may be interactions between results of tests."
   ]
  },
  {
   "cell_type": "code",
   "execution_count": null,
   "id": "17504c16-0b3a-4924-a0e7-96993b2476e0",
   "metadata": {},
   "outputs": [],
   "source": []
  },
  {
   "cell_type": "markdown",
   "id": "337dac7f-afc0-49c6-add0-d2e4c21c3ae1",
   "metadata": {},
   "source": [
    "<h4>Question 4</h4>\n",
    "\n",
    "Explain covariance and correlation formulaically; compare and contrast them.\n",
    "\n",
    "<i>Answer:</i>\n",
    "\n",
    "<i>refer to notes above</i>"
   ]
  },
  {
   "cell_type": "code",
   "execution_count": null,
   "id": "62e1e309-9abf-4fe0-b7ae-6e9f2ea7df38",
   "metadata": {},
   "outputs": [],
   "source": []
  },
  {
   "cell_type": "markdown",
   "id": "0bbf8040-5e58-4003-a38b-904f3e2ae81c",
   "metadata": {},
   "source": [
    "<h4>Question 5</h4>\n",
    "\n",
    "You flip a coin $10$ times and observe only $1$ heads. What would be your null hypothesis and p-value for testing whether the coin is fair or not?\n",
    "\n",
    "<i>Answer:</i>\n",
    "\n",
    "The null hypothesis is that the coin is fair. The alternative hypothesis is that the coin is biased toward tails.\n",
    "\n",
    "$H_0: p_0 = 0.5$\n",
    "\n",
    "$H_A: p_1 \\lt 0.5$\n",
    "\n",
    "There are $2^{10} = 1024$ possible outcomes, and in only $10$ of them are there $9$ tails and $1$ heads. The probability of the given result is $10/1024 = 0.0098$ (therefore, we can reject the $H_0$)."
   ]
  },
  {
   "cell_type": "code",
   "execution_count": null,
   "id": "388db9bc-7a12-4abe-b5ae-32402ecce9bb",
   "metadata": {},
   "outputs": [],
   "source": []
  },
  {
   "cell_type": "markdown",
   "id": "2dc1fa73-3a61-4f19-9cda-483808cc94d7",
   "metadata": {},
   "source": [
    "<h4>Question 6</h4>\n",
    "\n",
    "Describe hypothesis testing and p-values in layman's terms.\n",
    "\n",
    "<i>Answer:</i>\n",
    "\n",
    "- Hypothesis testing is the process of testing whether data supports particular hypotheses, and involves measuring parameters of a population's probability distribution.\n",
    "\n",
    "- p-values are the probability of observing the given test results under the $H_0$ assumptions. The lower the probability, the higher the chance the $H_0$ should be rejected."
   ]
  },
  {
   "cell_type": "code",
   "execution_count": null,
   "id": "55cc6bbd-7286-4318-b3a7-bfb40eede742",
   "metadata": {},
   "outputs": [],
   "source": []
  },
  {
   "cell_type": "markdown",
   "id": "3118efa2-9d56-4e98-b6e0-0e3de6a1bc16",
   "metadata": {},
   "source": [
    "<h4>Question 7</h4>\n",
    "\n",
    "Describe what type I and type II errors are, and the trade-offs between them.\n",
    "\n",
    "<i>Answer:</i>\n",
    "\n",
    "- Type I error is when one rejects the $H_0$ when it is correct, known as a $FP$. We detect a difference, when in reality there is no significant difference.\n",
    "\n",
    "- Type II error is when the $H_0$ is not rejected when the $H_A$ is correct, known as a $FN$. We fail to detect a difference, when in reality there is a significant difference.\n",
    "\n",
    "Type I error is given by the significance level $\\alpha$, whereas the type II error is given by $\\beta$. We refer to $1-\\alpha$ as the confidence level and $1-\\beta$ as the power of the test (we want both $\\alpha$ and $\\beta$ to be small)."
   ]
  },
  {
   "cell_type": "code",
   "execution_count": null,
   "id": "b9ae3bbf-c84e-4d20-9450-a2c6e8d006c0",
   "metadata": {},
   "outputs": [],
   "source": []
  },
  {
   "cell_type": "markdown",
   "id": "55ceb5d8-9bc2-475f-ade3-1ed0a1ae4645",
   "metadata": {},
   "source": [
    "<h4>Question 8</h4>\n",
    "\n",
    "Explain the statistical background behind power.\n",
    "\n",
    "<i>Answer:</i>\n",
    "\n",
    "<i>Explained in question above</i>"
   ]
  },
  {
   "cell_type": "code",
   "execution_count": null,
   "id": "32904187-5326-4ad1-bcae-cfacdf93e8ec",
   "metadata": {},
   "outputs": [],
   "source": []
  },
  {
   "cell_type": "markdown",
   "id": "71d25f60-5cbe-4881-9f46-ca262913474b",
   "metadata": {},
   "source": [
    "<h4>Question 9</h4>\n",
    "\n",
    "What is a Z-test and when would you use it vs. a t-test?\n",
    "\n",
    "<i>Answer:</i>\n",
    "\n",
    "We can use either test only if the mean is normally distributed, which is possible if:\n",
    "\n",
    "a) the initial population is normally distributed, or \n",
    "\n",
    "b) the sample size is large enough to apply the CLT ($n \\ge 30$)\n",
    "\n",
    "In general, we use Z-tests if the population variance is known, and a t-test if population variance is unknown. But when sample size is very large ($n \\ge 200$), the t-distribution will closely resemble the normal distribution regardless."
   ]
  },
  {
   "cell_type": "code",
   "execution_count": null,
   "id": "9cecc478-7f5b-4937-b28c-50a0ef3a7e39",
   "metadata": {},
   "outputs": [],
   "source": []
  },
  {
   "cell_type": "markdown",
   "id": "22f2aa16-c7c4-48ea-9436-39f17c78a3f9",
   "metadata": {},
   "source": [
    "<h4>Question 10</h4>\n",
    "\n",
    "Say you are testing hundreds of hypotheses, each with a t-test. What considerations should you take into account?\n",
    "\n",
    "<i>Answer:</i>\n",
    "\n",
    "As the number of tests increases, the chance that a stand-alone p-value for any of the t-tests is statistically significant becomes high due to chance alone. i.e., you have a high probability of observing at least one significant outcome, and the chance of type I error ($FP$) increases.\n",
    "\n",
    "The Bonferroni correction sets the significance threshold to $\\alpha/m$, where $m$ is the number of tests being performed. While this helps to protect from type I error, it is still prone to type II error ($FN$). It is mostly useful when there is a small number of multiple comparisons of which a few are significant."
   ]
  },
  {
   "cell_type": "code",
   "execution_count": null,
   "id": "005c521d-102f-4713-be36-84c1d8af8dea",
   "metadata": {},
   "outputs": [],
   "source": []
  },
  {
   "cell_type": "markdown",
   "id": "e0a4c099-84df-4a4a-b6b7-9d9f4d261956",
   "metadata": {},
   "source": [
    "<h4>Question 11</h4>\n",
    "\n",
    "How would you derive a confidence interval for the probability of flipping heads from a series of coin tosses?\n",
    "\n",
    "<i>Answer:</i>\n",
    "\n",
    "The confidence interval is an interval that includes a true population with degree of confidence $1-\\alpha$. For flipping heads in a series of coin tosses, the proportion follows the binomial distribution. If the series size is large enough (each of the number of successes and number of failures is at least $10$), we can utilize the CLT and the normal approximation for the binomial distribution.\n",
    "\n",
    "$\\hat{p} \\pm z_{\\alpha/2} \\sqrt{ \\frac{\\hat{p}(1-\\hat{p})}{n} }$"
   ]
  },
  {
   "cell_type": "code",
   "execution_count": null,
   "id": "ecfaad2e-c6d4-46bf-81a3-a564caa8e72f",
   "metadata": {},
   "outputs": [],
   "source": []
  },
  {
   "cell_type": "markdown",
   "id": "19e36d3a-9369-4be3-8e46-a8feb72643a7",
   "metadata": {},
   "source": [
    "<h4>Question 13</h4>\n",
    "\n",
    "What is the expected number of rolls needed to see all sides of a fair die?\n",
    "\n",
    "<i>Answer:</i>\n",
    "\n",
    "Let $k$ denote the number of distinct sides seen from rolls. The first roll will always result in a new side being seen. If you have seen $k$ sides, where $k \\lt 6$, then the probability of rolling an unseen value will be $(6-k)/6$, since there are $6-k$ values you have not seen, and $6$ possible outcomes of each roll.\n",
    "\n",
    "Each roll is independent of previous rolls. Therefore, for the second roll ($k=1$), the time until a side not seen appears has a geometric distribution with $p=5/6$, after two sides ($k=2$), $p=4/6$, etc.\n",
    "\n",
    "The mean for a geometric distribution is given by $1/p$. Let $X$ be the number of rolls needed to show all $6$ sides.\n",
    "\n",
    "$E[X] = 1 + \\frac{6}{5} + \\frac{6}{4} + \\ldots + \\frac{6}{1}$\n",
    "\n",
    "$E[X] = 6 \\sum_{p=1}^6 \\frac{1}{p} = 14.7 rolls$"
   ]
  },
  {
   "cell_type": "code",
   "execution_count": null,
   "id": "1aaffeae-01b5-4c76-8950-b41523b754db",
   "metadata": {},
   "outputs": [],
   "source": []
  },
  {
   "cell_type": "markdown",
   "id": "4dce9707-2586-450b-b4f5-047b58331a04",
   "metadata": {},
   "source": [
    "<h4>Question 15</h4>\n",
    "\n",
    "A coin is flipped $1000$ times, and $550$ times it shows heads. Do you think the coin is biased?\n",
    "\n",
    "<i>Answer:</i>\n",
    "\n",
    "Because the sample size is large, we can use the CLT. Each flip is a Bernoulli random variable, with $p$ as the probability of heads. We want to test whether $p=0.5$.\n",
    "\n",
    "The number of heads seen out of n total rolls follows a binomial distribution. If the coin is not biased, then the expected number of heads is:\n",
    "\n",
    "$\\mu = np = 1000 \\cdot 0.5 \\cdot 0.5 = 250$\n",
    "\n",
    "The variance and standard deviation are calculated as:\n",
    "\n",
    "$\\sigma^2 = np(1-p)$\n",
    "\n",
    "$\\sigma^2 = 1000 \\cdot 0.5 \\cdot 0.5 = 250$\n",
    "\n",
    "$\\sigma = \\sqrt{250}$\n",
    "\n",
    "Since this mean and standard deviation specify the normal distribution, we can calculate the corresponding z-score for $550$ heads as follows:\n",
    "\n",
    "$z = \\frac{550-500}{16} = 3.16$\n",
    "\n",
    "This means that the event of seeing 550 heads should occur with probability $\\lt 0.1\\%$"
   ]
  },
  {
   "cell_type": "code",
   "execution_count": null,
   "id": "4c1448b6-a348-4ca8-9833-a72b4f98234a",
   "metadata": {},
   "outputs": [],
   "source": []
  },
  {
   "cell_type": "markdown",
   "id": "e7e87b62-5fdf-43a1-9fdc-c0a265384d5f",
   "metadata": {},
   "source": [
    "<h4>Question 16</h4>\n",
    "\n",
    "You are drawing from a normally distributed random variable once a day. What is the approximate number of days until you get a value greater than $2$?\n",
    "\n",
    "<i>Answer:</i>\n",
    "\n",
    "Since $X$ is normally distributed, we employ the CDF of the normal distribution.\n",
    "\n",
    "$\\Phi(2) = P(X \\le 2) = P(X \\le \\mu + 2 \\sigma) = 0.9772$\n",
    "\n",
    "Therefore, $P(X \\gt 2) = 1 - 0.977 = 0.023$ for any given day. Since each day's draws are independent, the expected time until drawing an $X \\gt 2$ follows a geometric distribution with probability $0.023$.\n",
    "\n",
    "Letting $T$ be a random variable denoting the number of days, we have the following:\n",
    "\n",
    "$E[T] = \\frac{1}{p} = \\frac{1}{0.2272} = 44 ~days$"
   ]
  },
  {
   "cell_type": "code",
   "execution_count": null,
   "id": "e40d84a5-4c86-456f-aabf-9e5b44213790",
   "metadata": {},
   "outputs": [],
   "source": []
  },
  {
   "cell_type": "markdown",
   "id": "0228baab-ccb5-4bdc-97ef-0c5e03355f3e",
   "metadata": {},
   "source": [
    "<h4>Question 17</h4>\n",
    "\n",
    "Say you have two random variables $X$ and $Y$, each with a standard deviation. What is the variance of $aX + bY$ for constants $a$ and $b$?\n",
    "\n",
    "<i>Answer:</i>\n",
    "\n",
    "The variance of a sum of variables is assessed as:\n",
    "\n",
    "$Var(X+Y) = Var(X) + Var(Y) + 2 ~Cov(X,Y)$\n",
    "\n",
    "and that a constant coefficient of a random variable is assessed as $Var(aX) + a^2 Var(X)$. We have:\n",
    "\n",
    "$Var(aX + bY) = a^2 Var(X) + b^2 Var(Y) + 2ab ~Cov(X,Y)$\n",
    "\n",
    "which would provide the bounds on the designated variance; the range will depend on the covariance between $X$ and $Y$."
   ]
  },
  {
   "cell_type": "code",
   "execution_count": null,
   "id": "54a2fbe1-3200-4ce7-b480-cc395f30ff12",
   "metadata": {},
   "outputs": [],
   "source": []
  },
  {
   "cell_type": "markdown",
   "id": "f64688c3-db66-43a0-bbf9-8e2f16358c57",
   "metadata": {},
   "source": [
    "<h4>Question 19</h4>\n",
    "\n",
    "Say you have an unfair coin which lands heads $60\\%$ of the time. How many coin flips are needed to detect that the coin is unfair?\n",
    "\n",
    "<i>Answer:</i>\n",
    "\n",
    "Each flip is a Bernoulli trial with success probability $p$. We can calculate a confidence interval using the CLT. We construct a $95\\%$ confidence interval ($z=1.96$), and if it does not include $0.5$ as its lower bound, we can reject the $H_0$ that the coin is fair.\n",
    "\n",
    "$p \\pm z \\sqrt{ \\frac{p(1-p)}{n} }$\n",
    "\n",
    "$0.6 - 1.96 \\sqrt{ \\frac{0.6(1-0.6)}{n} } = 0.5$\n",
    "\n",
    "Solving for $n$ yields $93$ flips."
   ]
  },
  {
   "cell_type": "code",
   "execution_count": null,
   "id": "02a18fc9-0193-4220-87eb-20b32d8f67d3",
   "metadata": {},
   "outputs": [],
   "source": []
  },
  {
   "cell_type": "markdown",
   "id": "608479d2-7edf-41c6-b40f-269973a7e516",
   "metadata": {},
   "source": [
    "<h4>Question 20</h4>\n",
    "\n",
    "Say you have $n$ numbers $1, \\ldots, n$, and you uniformly sample from this distribution with replacement $n$ times. What is the expected number of distinct values you would draw?\n",
    "\n",
    "<i>Answer:</i>\n",
    "\n",
    "Let $X_i = 1$ if $i$ is drawn in $n$ turns\n",
    "\n",
    "We know that $p(X_i=1) = 1 - p(X_i=0)$, so the probability of a number not being drawn (where each draw is independent) is the following:\n",
    "\n",
    "$p(X_i=0) = \\left( \\frac{n-1}{n} \\right)^n$\n",
    "\n",
    "Therefore, we have $p(X_i=1) = 1 - \\left( \\frac{n-1}{n} \\right)^n$\n",
    "\n",
    "and by linearity of expectation, we have:\n",
    "\n",
    "$\\sum_{i=1}^n E[X_i] = n ~E[X_i] = n \\left( 1 - \\left( \\frac{n-1}{n} \\right)^n \\right)$"
   ]
  },
  {
   "cell_type": "code",
   "execution_count": null,
   "id": "37511df2-6037-4070-b7d8-378b08839e72",
   "metadata": {},
   "outputs": [],
   "source": []
  },
  {
   "cell_type": "markdown",
   "id": "626c002c-8b38-4998-bdae-3e5d02727d60",
   "metadata": {},
   "source": [
    "<h4>Question 23</h4>\n",
    "\n",
    "Derive the mean and variance of the Uniform distribution U(a,b).\n",
    "\n",
    "<i>Answer:</i>\n",
    "\n",
    "$f_X(x) = \\frac{1}{b-a}$\n",
    "\n",
    "Therefore, we calculate the mean as:\n",
    "\n",
    "$E[X] = \\int_a^b x ~f_X(x) ~dx = \\int_a^b \\frac{x}{b-a} ~dx = \\frac{x^2}{2(a-b)} \\big\\vert_a^b = \\frac{a+b}{2}$\n",
    "\n",
    "Similarly, the variance can be expressed as:\n",
    "\n",
    "$Var(X) = E[X^2] - E[X]^2$\n",
    "\n",
    "Giving us:\n",
    "\n",
    "$E[X^2] = \\int_a^b x^2 f_X(x) ~dx = \\int_a^b \\frac{x^2}{b-a} ~dx = \\frac{x^3}{3(a-b)} \\big\\vert_a^b = \\frac{a^2 + ab + b^2}{3}$\n",
    "\n",
    "Therefore:\n",
    "\n",
    "$Var(X) = \\frac{a^2 + ab^2 + b^2}{3} - \\left( \\frac{a+b}{2} \\right)^2 = \\frac{(b-a)^2}{12}$"
   ]
  },
  {
   "cell_type": "code",
   "execution_count": null,
   "id": "bf42634d-6962-44f4-8b2d-8f7dd61e0d5a",
   "metadata": {},
   "outputs": [],
   "source": []
  },
  {
   "cell_type": "markdown",
   "id": "ee909caf-c72d-427e-862e-c05f4255cbff",
   "metadata": {},
   "source": [
    "<h4>Question 29</h4>\n",
    "\n",
    "What are MLE and MAP? What is the difference between the two?\n",
    "\n",
    "<i>Answer:</i>\n",
    "\n",
    "MLE and MAP are ways of estimating variables in a probability distribution by producing a single estimate of a variable.\n",
    "\n",
    "</br>\n",
    "<u><i>MLE:</i></u>\n",
    "\n",
    "Assume we have likelihood function $P(X|\\theta)$. Given n IID samples, MLE is:\n",
    "\n",
    "$MLE_{\\theta} = max_{\\theta} P(X|\\theta) = max \\prod_i^n P(x_i | \\theta)$\n",
    "\n",
    "Maximizing the log function of the product is more convenient, a) to avoid computer rounding errors, and b) because hte log of a product is equal to the sum of logs.\n",
    "\n",
    "$MLE_{log} \\theta = max_\\theta \\sum_{i=1}^n ~log ~P(x_i | \\theta)$\n",
    "\n",
    "</br>\n",
    "<u><i>MAP:</i></u>\n",
    "\n",
    "MAP uses the posterior P(\\theta|X) being proportional to the likelihood multiplied by a prior $P(\\theta)$; i.e., $P(X|\\theta) P(\\theta)$. The MAP for $\\theta$ is:\n",
    "\n",
    "$MAP(\\theta) = max_{\\theta} P(X|\\theta) = max_{\\theta} \\prod_i^n P(x_i | \\theta) P(\\theta)$\n",
    "\n",
    "Employing the same math used in calculating the MLE, the MAP becomes\n",
    "\n",
    "$MAP_{log}(\\theta) = max_{\\theta} \\sum_{i=1}^n ~log ~P(x_i | \\theta) + log ~P(\\theta)$\n",
    "\n",
    "MLE can be seen as a special case of the MAP with a uniform prior."
   ]
  },
  {
   "cell_type": "code",
   "execution_count": null,
   "id": "fb4bd744-1f02-4d8e-8f29-9990cd1d5393",
   "metadata": {},
   "outputs": [],
   "source": []
  },
  {
   "cell_type": "markdown",
   "id": "8ddb4822-d70c-4062-a6d1-10b037923013",
   "metadata": {},
   "source": [
    "<h4>Question 30</h4>\n",
    "\n",
    "Say you are given a random Bernoulli trial generator. How would you generate values from a standard normal distribution?\n",
    "\n",
    "<i>Answer:</i>\n",
    "\n",
    "$n$ Bernoulli trials form a binomial distribution with probability $p$ of success ($x_i=1$ means success and $x_i=0$ means failure). Assuming IID trials, we can compute the sample proportion for $\\hat{p}$ as follows:\n",
    "\n",
    "$\\hat{p} = \\frac{1}{n} \\sum_{i=1}^n x_i$\n",
    "\n",
    "We know that if $n$ is large enough, the binomial distribution approximates the following normal distributions:\n",
    "\n",
    "$\\hat{p} \\text{~} \\mathcal{N} \\left( p, \\frac{p(1-p)}{n} \\right)$\n",
    "\n",
    "where $np$ must be $\\ge 10$, and $n(1-p) \\ge 10$ (so $n \\ge 20$ for $p=0.5$).\n",
    "\n",
    "To simulate the standard normal distribution, we normalize $\\hat{p}$.\n",
    "\n",
    "$\\hat{p_0} = \\frac{ \\hat{p} - p }{ \\sqrt{ \\frac{p(1-p)}{n} } }$\n",
    "\n",
    "At this point, we can derive the final formula for the random number generator.\n",
    "\n",
    "$\\bar{x} = \\frac{ \\sum_{i=1}^n x_i - p }{ \\sqrt{ \\frac{p(1-p)}{n} } }$\n",
    "\n",
    "which can be simplified to:\n",
    "\n",
    "$\\bar{x} = \\frac{ \\sum_{i=1}^n x_i - np }{ \\sqrt{ np(1-p) } }$"
   ]
  }
 ],
 "metadata": {
  "kernelspec": {
   "display_name": "Python 3 (ipykernel)",
   "language": "python",
   "name": "python3"
  },
  "language_info": {
   "codemirror_mode": {
    "name": "ipython",
    "version": 3
   },
   "file_extension": ".py",
   "mimetype": "text/x-python",
   "name": "python",
   "nbconvert_exporter": "python",
   "pygments_lexer": "ipython3",
   "version": "3.11.5"
  }
 },
 "nbformat": 4,
 "nbformat_minor": 5
}
