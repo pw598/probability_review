{
 "cells": [
  {
   "cell_type": "markdown",
   "id": "6d996a42-cbd3-4e4d-a6d9-5e2b994e6a32",
   "metadata": {},
   "source": [
    "# Chapter 5: Continuous RVs"
   ]
  },
  {
   "cell_type": "code",
   "execution_count": null,
   "id": "dbe0f83e-856e-4e77-aa71-78c0f3be2776",
   "metadata": {},
   "outputs": [],
   "source": [
    "# The source of the content is freely available online\n",
    "# https://drive.google.com/file/d/1VmkAAGOYCTORq1wxSQqy255qLJjTNvBI/view\n",
    "# https://projects.iq.harvard.edu/stat110/"
   ]
  },
  {
   "cell_type": "markdown",
   "id": "912579bb-8bfd-457a-8342-3cb76a3068bf",
   "metadata": {},
   "source": [
    "<h4>Definition 5.1.1 (Continuous Random Variables)</h4>\n",
    "\n",
    "A random variable has a continuous distribution if its cumulative distribution function (CDF) is differentiable. For continuous random variables, the derivative of the CDF is the PDF."
   ]
  },
  {
   "cell_type": "code",
   "execution_count": null,
   "id": "f8a37b3b-d243-4220-8c44-5fc974da312c",
   "metadata": {},
   "outputs": [],
   "source": []
  },
  {
   "cell_type": "markdown",
   "id": "c6044bed-cf27-4ee4-a97f-6c758eaeaf24",
   "metadata": {},
   "source": [
    "<h4>Definition 5.1.2 (Probability Density Function)</h4>\n",
    "\n",
    "For a continuous random variable $X$ with CDF $F$, the probability density function (PDF) of $X$ is the derivative of the CDF, given by $f(x)=F'(x)$. The support of $X$, and its distribution, is the set of all $x$ where $f(x) \\gt 0$. To get a desired probability, integrate the PDF over the appropriate range."
   ]
  },
  {
   "cell_type": "code",
   "execution_count": null,
   "id": "7156d4dc-8da0-4e8f-8a13-de3e49b80ecf",
   "metadata": {},
   "outputs": [],
   "source": []
  },
  {
   "cell_type": "markdown",
   "id": "f640748b-7f89-44ae-80b4-76bb484da233",
   "metadata": {},
   "source": [
    "<h4>Theorem 5.1.5 (Valid PDFs)</h4>\n",
    "\n",
    "The PDF of a continuous random variable must satisfy the following two criteria:\n",
    "- Nonnegative, $f(x) \\gt 0$\n",
    "- Integrates to $1$, $\\int_{-\\infty}^{\\infty} f(x) ~dx = 1$"
   ]
  },
  {
   "cell_type": "code",
   "execution_count": null,
   "id": "3f643c1c-c2b0-4df0-aa62-c43da330119b",
   "metadata": {},
   "outputs": [],
   "source": []
  },
  {
   "cell_type": "markdown",
   "id": "3b438e4a-c039-4797-8ce6-843a2973188f",
   "metadata": {},
   "source": [
    "<h4>Definition 5.1.10 (Expectation of a Continuous Random Variable)</h4>\n",
    "\n",
    "The expected value of a continuous random variable $X$ with PDF $f$ ix:\n",
    "\n",
    "$E(X) \\int_{-\\infty}^{\\infty} x ~f(x) ~dx$"
   ]
  },
  {
   "cell_type": "code",
   "execution_count": null,
   "id": "0a23a366-fd31-408e-8ca4-920f455ee664",
   "metadata": {},
   "outputs": [],
   "source": []
  },
  {
   "cell_type": "markdown",
   "id": "f74bd749-4960-4cc7-b771-2b8dea4b4bad",
   "metadata": {},
   "source": [
    "<h4>Theorem 5.1.1 (Continuous LOTUS)</h4>\n",
    "\n",
    "If $X$ is a continuous random variable with PDF $f$ and $g$ is a function from $\\mathbb{R}$ to $\\mathbb{R}$, then:\n",
    "\n",
    "$E(g(X)) = \\int_{-\\infty}^{\\infty} g(x) ~f(x) ~dx$"
   ]
  },
  {
   "cell_type": "code",
   "execution_count": null,
   "id": "1baa4a4e-a12e-4680-b580-64c56d2eb491",
   "metadata": {},
   "outputs": [],
   "source": []
  },
  {
   "cell_type": "markdown",
   "id": "b15f745d-4906-49d5-9fa5-89e73850330b",
   "metadata": {},
   "source": [
    "<h4>Definition 5.2.1 (Uniform)</h4>\n",
    "\n",
    "A continuous random variable $U$ is said to have the Uniform distribution on the interval $(a,b)$ if its PDF is:\n",
    "\n",
    "$f(x) = \\frac{1}{b-a}, if a \\lt x \\lt b$, otherwise $0$"
   ]
  },
  {
   "cell_type": "code",
   "execution_count": null,
   "id": "e7d2bf78-5df3-4944-a897-f96d2b441a72",
   "metadata": {},
   "outputs": [],
   "source": []
  },
  {
   "cell_type": "markdown",
   "id": "9777f8d9-d448-4fe1-bcd7-2aa01bcc96b3",
   "metadata": {},
   "source": [
    "<h4>5.3 Universality of the Uniform</h4>\n",
    "\n",
    "Given a $\\text{Unif}(0,1)$ random variable, we can construct a random variable with any continuous distribution. Conversely, we can create a $\\text{Unif}(0,1)$ random variable. We call this the universality of the Uniform."
   ]
  },
  {
   "cell_type": "code",
   "execution_count": null,
   "id": "4c79564a-58e6-43a2-af7a-3b65cb1ea3f5",
   "metadata": {},
   "outputs": [],
   "source": []
  },
  {
   "cell_type": "markdown",
   "id": "28a201f7-98a9-47a5-80c2-d252b70d63a5",
   "metadata": {},
   "source": [
    "<h4>Theorem 5.3.1 (Universality of the Uniform)</h4>\n",
    "\n",
    "Let $F$ be a CDF which is a continuous function and strictly increasing on the support of the distribution. This ensures that the inverse function $F^{-1}$ exists, as a function from $(0,1)$ to $\\mathbb{R}$.\n",
    "\n",
    "1. Let $U \\text{~} \\text{Unif}(0,1)$ and $X=F^{-1}(U)$. Then $X$ is a random variable with CDF $F$.\n",
    "2. Let $X$ be a random variable with CDF $F$. Then, $F(X) \\text{~} \\text{Unif}(0,1)$"
   ]
  },
  {
   "cell_type": "code",
   "execution_count": null,
   "id": "aa878369-bf23-495d-b16c-6a3ce3101664",
   "metadata": {},
   "outputs": [],
   "source": []
  },
  {
   "cell_type": "markdown",
   "id": "19832327-8ced-4fc2-85e1-6db469371c32",
   "metadata": {},
   "source": [
    "<h4>5.5 Exponential Distribution</h4>\n",
    "\n",
    "The Exponential distribution is the continuous counterpart to the Geometric distribution. The average number of successes in a time interval of length $t$ is $\\lambda t$, though the actual number of successes varies randomly. An Exponential random variable represents the waiting time until the first arrival of a success."
   ]
  },
  {
   "cell_type": "code",
   "execution_count": null,
   "id": "59b707dc-bd1e-4cc0-a089-849b9632f952",
   "metadata": {},
   "outputs": [],
   "source": []
  },
  {
   "cell_type": "markdown",
   "id": "6f61a9ad-cd94-4709-8666-1798d15d6b0c",
   "metadata": {},
   "source": [
    "<h4>Definition 5.5.1</h4>\n",
    "\n",
    "A continuous random variable $X$ is said to have the Exponential distribution with parameter $\\lambda$, where $\\lambda \\gt 0$, if its PDF is $f(x) = \\lambda e^{-\\lambda x}, x \\gt 0$.\n",
    "\n",
    "The corresponding CDF is:\n",
    "\n",
    "$F(x) = 1 - 3^{-\\lambda x}, x \\gt 0$"
   ]
  },
  {
   "cell_type": "code",
   "execution_count": null,
   "id": "263cde13-bae8-4a0b-b8cd-c801a80efd2f",
   "metadata": {},
   "outputs": [],
   "source": []
  },
  {
   "cell_type": "markdown",
   "id": "470cb014-c642-438a-80a7-af9b19701ff3",
   "metadata": {},
   "source": [
    "<h4>Definition 5.5.2 (Memoryless Property)</h4>\n",
    "\n",
    "A continuous distribution is said to have the memoryless property if a random variable $X$ from that distribution satisfies:\n",
    "\n",
    "$P(X \\ge s+t | X \\ge s) = P(X \\ge t)$\n",
    "\n",
    "$s$ represents the time you've already spent waiting. The definition says that after you've waited s minutes, the probability you'll have to wait another $t$ minutes is the same as the probability of having to wait $t$ minutes with no previous waiting time already accumulated."
   ]
  },
  {
   "cell_type": "code",
   "execution_count": null,
   "id": "40cf6b38-9c50-4e7d-bc19-3323cfabcef4",
   "metadata": {},
   "outputs": [],
   "source": []
  },
  {
   "cell_type": "markdown",
   "id": "e842fed2-5aba-435a-838c-7b98ae3d6877",
   "metadata": {},
   "source": [
    "<h4>Theorem 5.5.3</h4>\n",
    "\n",
    "If $X$ is a positive continuous random variable with the memoryless property, then $X$ has an Exponential distribution"
   ]
  },
  {
   "cell_type": "code",
   "execution_count": null,
   "id": "4fbb711d-da96-4181-835c-79e198599e7f",
   "metadata": {},
   "outputs": [],
   "source": []
  },
  {
   "cell_type": "markdown",
   "id": "06e3e9c3-f642-4e59-ae4b-85bc73d29a88",
   "metadata": {},
   "source": [
    "<h4>5.6 Poisson Processes</h4>\n",
    "\n",
    "The Exponential and Poisson are linked by a common story, which is the story of the Poisson process. A Poisson process is a sequence of arrivals occurring at different points on a timeline, such that the number of arrivals in a particular interval of time has a Poisson distribution."
   ]
  },
  {
   "cell_type": "code",
   "execution_count": null,
   "id": "3d4a8493-e47b-4117-8bc8-916a04e0173a",
   "metadata": {},
   "outputs": [],
   "source": []
  },
  {
   "cell_type": "markdown",
   "id": "2c9ea7bb-d324-4697-aff6-82b047e5a4da",
   "metadata": {},
   "source": [
    "<h4>Definition 5.6.1 (Poisson Process)</h4>\n",
    "\n",
    "A process of arrivals in continuous time is called a Poisson process with rate $\\lambda$ if the following two conditions hold:\n",
    "\n",
    "1. The number of arrivals that occur in an interval of length $t$ is a $Pois(\\lambda t)$ random variable.\n",
    "2. The number of arrivals that occur in disjoint intervals are independent of each other."
   ]
  },
  {
   "cell_type": "code",
   "execution_count": null,
   "id": "44a42b08-1304-4802-a0c8-abec414b97c9",
   "metadata": {},
   "outputs": [],
   "source": []
  },
  {
   "cell_type": "markdown",
   "id": "d35e39d3-3209-4b93-8de6-596be0d17ca4",
   "metadata": {},
   "source": [
    "<h4>Example 5.6.5 (Maximum of 3 Independent Exponentials)</h4>\n",
    "\n",
    "Three students are working independently on their homework. All 3 start at 1pm on a certain day, and each takes an Exponential time with mean 6 hours to complete. What is the earliest time at which all 3 students will have completed their homework, on average?\n",
    "\n",
    "<i>Answer:</i>\n",
    "\n",
    "Label the students as $1,2,3$ and let $X_j$ be how long it takes student $j$ to finish the homework. Let $\\lambda = \\frac{1}{6}$, and let $T$ be the time when all $3$ students will have completed the homework, so $T = max(X_1, X_2, X_3)$ with $X_i \\text{~} Expo(\\lambda)$. The CDF of $T$ is:\n",
    "\n",
    "$P(T \\le t) = P(X_1 \\le t, X_2 \\le t, X_3 \\le t) = (1-e^{-\\lambda t}) = (1-e^{-\\lambda t})^3$\n",
    "\n",
    "So the PDF of $T$ is:\n",
    "\n",
    "$f_T(t) = 3 \\lambda e^{-\\lambda t} (1-e^{-\\lambda t})^2$\n",
    "\n",
    "$T$ is not Exponential.\n",
    "\n",
    "An approach to finding $E(T)$ is to use the memoryless property and the fact that the minimum of Exponentials is Exponential.\n",
    "\n",
    "$T = T_1 + T_2 + T_3$\n",
    "\n",
    "where $T_1 = min(X_1, X_2, X_3)$ is how long it takes for one student to complete the homework, $T_2$ is the additional time it takes for a second student to complete the homework, and $T_3$ is the additional time it takes for all $3$ students to have completed the homework. Then $T_1 \\text{~} Expo(3 \\lambda)$, by the result of example 5.6.3.\n",
    "\n",
    "By the memoryless property, at the first time when a student completes the homework, the other two students are starting from fresh, so $T_2 \\text{~} Expo(2 \\lambda)$. Again, by the memoryless property, $T_3 \\text{~} Expo(\\lambda)$. The memoryless property also implies that $T_1, T_2, T_3$ are independent.\n",
    "\n",
    "$E(T) = \\frac{1}{3 \\lambda} + \\frac{1}{2 \\lambda} + \\frac{1}{\\lambda}$\n",
    "$E(T) = 2 + 3 + 6 = 11$\n",
    "\n",
    "On average, the $3$ students will have completed all the homework by midnight, $11$ hours after starting. "
   ]
  },
  {
   "cell_type": "code",
   "execution_count": null,
   "id": "096e659b-867e-4531-b9fd-f3164072eb42",
   "metadata": {},
   "outputs": [],
   "source": []
  },
  {
   "cell_type": "markdown",
   "id": "c37b45c4-44ff-429e-b6b2-9346ed7889c9",
   "metadata": {},
   "source": [
    "<h4>Example 5.6.6 (Machine Repair)</h4>\n",
    "\n",
    "A certain machine often breaks down and needs to be fixed. At time $0$, the machine is working. It works for an $Expo(\\lambda)$ period of time (in days) and then breaks down. It then takes an $Expo(\\lambda)$ amount of time to get fixed, after which it works for an $Expo(\\lambda)$ time before breaking down again, etc. The $Expo(\\lambda)$ random variables are IID.\n",
    "\n",
    "<b>Part A:</b>\n",
    "\n",
    "A transition occurs when the machine switches from working to being broken, or switches from being broken to working. Find the distribution of the number of transitions that occur in the time interval $(0,t)$.\n",
    "\n",
    "<i>Answer:</i>\n",
    "\n",
    "The times between transitions are IID $Expo(\\lambda)$, so the times at which transitions occur follow a Poisson process of rate $\\lambda$. So the desired distribution is $Pois(\\lambda)$.\n",
    "\n",
    "\n",
    "<b>Part B:</b>\n",
    "\n",
    "The machine is redesigned so that it can continue to function even if one component has failed. The redesigned machine has $5$ components, each of which works for an $Expo(\\lambda)$ amount of time and then fails, independently. The machine works properly only if at most one component has failed. Find the expected time until the machine breaks down.\n",
    "\n",
    "<i>Answer:</i>\n",
    "\n",
    "The time until a component fails is $Expo(5 \\lambda)$. Then, by the memoryless property, the additional time until another component fails is $Expo(4 \\lambda)$. So the expected time until the machine breaks down is:\n",
    "\n",
    "$\\frac{1}{5 \\lambda} + \\frac{1}{4 \\lambda} = \\frac{9}{20 \\lambda}$"
   ]
  },
  {
   "cell_type": "code",
   "execution_count": null,
   "id": "52322c65-3cf3-408c-8be6-734c04d4279e",
   "metadata": {},
   "outputs": [],
   "source": []
  },
  {
   "cell_type": "code",
   "execution_count": null,
   "id": "4e43a000-d664-45c2-909b-2df64fdb5a1d",
   "metadata": {},
   "outputs": [],
   "source": []
  },
  {
   "cell_type": "markdown",
   "id": "b737ffee-5dc5-4c84-9bd6-10f81e6e2590",
   "metadata": {},
   "source": [
    "# Exercises"
   ]
  },
  {
   "cell_type": "markdown",
   "id": "f1b58a73-0364-4b7d-b62f-65c6a37535ef",
   "metadata": {},
   "source": [
    "<h3>Exponential Exercises</h3>"
   ]
  },
  {
   "cell_type": "markdown",
   "id": "f534b4b3-083a-4851-aae2-8b5e0561b03a",
   "metadata": {},
   "source": [
    "<h4>Exercise 38</h4>\n",
    "\n",
    "A post office has $2$ clerks. Alice enters the post office while $2$ other customers, Bob and Claire, are being served by the $2$ clerks. She is next in line. Assume the time a clerk spends serving a customer has the $Expo(\\lambda)$ distribution.\n",
    "\n",
    "<b>Part A:</b>\n",
    "\n",
    "What is the probability that Alice is the last of the $3$ customers to be done being served?\n",
    "\n",
    "<i>Answer:</i>\n",
    "\n",
    "Alice begins to be served when either Bob or Claire leaves. By the memorylessness property, the additional time needed to serve whichever of Bob or Claire is still there is $Expo(\\lambda)$. The time it takes to serve Alice is also $Expo(\\lambda)$, so by symmetry, the probability is $\\frac{1}{2}$ that Alice is the last to be done being served.\n",
    "\n",
    "<b>Part B:</b>\n",
    "\n",
    "What is the expected total time that Alice needs to spend at the post office?\n",
    "\n",
    "<i>Answer:</i>\n",
    "\n",
    "The expected time spent waiting in line is $\\frac{1}{2 \\lambda}$, since the minimum of two independent $Expo(\\lambda)$ random variables is $Expo(2 \\lambda)$. The expected time spent being served is $\\frac{1}{\\lambda}$. So the expected total time is:\n",
    "\n",
    "$\\frac{1}{2 \\lambda} + \\frac{1}{\\lambda} = \\frac{3}{2 \\lambda}$"
   ]
  },
  {
   "cell_type": "code",
   "execution_count": null,
   "id": "91541ee7-d639-4498-a137-ea28b7b5fff7",
   "metadata": {},
   "outputs": [],
   "source": []
  },
  {
   "cell_type": "markdown",
   "id": "ab697504-bc07-4c3b-839e-bd0befbc580d",
   "metadata": {},
   "source": [
    "<h4>Exercise 41</h4>\n",
    "\n",
    "Fred wants to sell his car to the first person to offer at least $\\$15,000$. Assume the offers are independent Exponential random variables with mean $\\$10,000$. Find the expected number of offers Fred will have.\n",
    "\n",
    "<i>Answer:</i>\n",
    "\n",
    "The offers on the car are IID $X_i \\text{~} Expo \\left( \\frac{1}{10^4} \\right)$. So the number of offers that are too low is $Geom(p)$ with $p = p(X_i \\ge 15,000 = e^{-1.5})$. Including the successful offer, the expected number of offers is thus $(1-p)/p + 1 = \\frac{1}{p} = e^{1.5}$."
   ]
  },
  {
   "cell_type": "code",
   "execution_count": null,
   "id": "a70abcd2-13ef-4bf7-8ca4-1104d03c29f6",
   "metadata": {},
   "outputs": [],
   "source": []
  },
  {
   "cell_type": "markdown",
   "id": "187c930f-6d9f-4e67-abda-fa2dabbec54f",
   "metadata": {},
   "source": [
    "<h3>Mixed Practice</h3>"
   ]
  },
  {
   "cell_type": "markdown",
   "id": "829ae226-f3ba-4574-84e7-fcc8366afca9",
   "metadata": {},
   "source": [
    "<h4>Exercise 55</h4>\n",
    "\n",
    "Consider an experiment where we observe the value of a random variable $X$, and estimate the value of an unknown constant $\\theta$ using some variable $T = g(X)$ that is a function of $X$. The random variable $T$ is called an estimator. Think of $X$ as the data observed in the experiment, and $\\theta$ as an unknown parameter related to the distribution of $X$.\n",
    "\n",
    "The bins of an estimator $T$ for $\\theta$ is defined as $b(T) = E(T) - \\theta$. The MSE is the average squared error when using $T(X)$ to estimate $\\theta$.\n",
    "\n",
    "$MSE(T) = E(T-\\theta)^2$\n",
    "\n",
    "Show that $MSE(T) = Var(T) + (b(T))^2$\n",
    "\n",
    "This implies that for fixed MSE, lower bias can only be attained at the cost of higher variance and vice versa. This is a form of the bias-variance trade-off.\n",
    "\n",
    "<i>Answer:</i>\n",
    "\n",
    "Using the fact that adding a constant does not affect variance, we have:\n",
    "\n",
    "$Var(T) = Var(T - \\theta) = E(T - \\theta)^2 - E(T - \\theta))^2 = MSE(T) - (b(T))^2$"
   ]
  }
 ],
 "metadata": {
  "kernelspec": {
   "display_name": "Python 3 (ipykernel)",
   "language": "python",
   "name": "python3"
  },
  "language_info": {
   "codemirror_mode": {
    "name": "ipython",
    "version": 3
   },
   "file_extension": ".py",
   "mimetype": "text/x-python",
   "name": "python",
   "nbconvert_exporter": "python",
   "pygments_lexer": "ipython3",
   "version": "3.11.5"
  }
 },
 "nbformat": 4,
 "nbformat_minor": 5
}
