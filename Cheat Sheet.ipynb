{
 "cells": [
  {
   "cell_type": "markdown",
   "id": "d2f666ed-cd84-4232-ab04-967df2c5c208",
   "metadata": {},
   "source": [
    "# Cheat Sheet"
   ]
  },
  {
   "cell_type": "code",
   "execution_count": 1,
   "id": "14bad7b6-e4c4-476b-9364-89d4fa4f7305",
   "metadata": {},
   "outputs": [],
   "source": [
    "# The source of the content is freely available online\n",
    "# https://drive.google.com/file/d/1VmkAAGOYCTORq1wxSQqy255qLJjTNvBI/view\n",
    "# https://projects.iq.harvard.edu/stat110/"
   ]
  },
  {
   "cell_type": "markdown",
   "id": "61eaa04a-e05b-4260-9fea-ad4e1a75244c",
   "metadata": {},
   "source": [
    "<h2 style=\"color: blue;\">Counting</h2>"
   ]
  },
  {
   "cell_type": "markdown",
   "id": "69bb55bf-f286-4706-8829-feabf2f5a3a1",
   "metadata": {},
   "source": [
    "<h4>Multiplication Rule</h4>\n",
    "\n",
    "Say we have a compound experiment, an experiment with multiple components. If the first component has $n_1$ possible outcomes, then overall there are $n_1 \\cdot n_2 \\cdot \\ldots \\cdot n_r$ possible outcomes."
   ]
  },
  {
   "cell_type": "code",
   "execution_count": null,
   "id": "5804412b-ead3-41a3-ba79-82011ba2630c",
   "metadata": {},
   "outputs": [],
   "source": []
  },
  {
   "cell_type": "markdown",
   "id": "33a2551b-a031-4275-aeae-46aa87ea15cf",
   "metadata": {},
   "source": [
    "<h4>Sampling Table</h4>\n",
    "\n",
    "**in notes**"
   ]
  },
  {
   "cell_type": "code",
   "execution_count": null,
   "id": "2c19ca74-018d-45e4-82f1-20f2bb864cf4",
   "metadata": {},
   "outputs": [],
   "source": []
  },
  {
   "cell_type": "markdown",
   "id": "459bf1ce-1eb5-4424-8a22-edbfcc1632cb",
   "metadata": {},
   "source": [
    "<h2 style=\"color: blue;\">Conditional Probability</h2>"
   ]
  },
  {
   "cell_type": "markdown",
   "id": "b25cbdba-87c4-4b34-8a73-8ab5836eef3e",
   "metadata": {},
   "source": [
    "<h4>Intersections via Conditioning</h4>\n",
    "\n",
    "$P(A,B) = P(A) P(B|A)$\n",
    "\n",
    "$P(A,B,C) = P(A) P(B|A) P(C|A,B)$"
   ]
  },
  {
   "cell_type": "code",
   "execution_count": null,
   "id": "4fb69e2b-6614-4db2-aef7-91ac3922e9cc",
   "metadata": {},
   "outputs": [],
   "source": []
  },
  {
   "cell_type": "markdown",
   "id": "78ede298-7581-47ab-98b8-3cc738df378c",
   "metadata": {},
   "source": [
    "<h4>Unions via Inclusion-Exclusion</h4>\n",
    "\n",
    "$P(A \\cup B) = P(A) + P(B) - P(A \\cap B)$\n",
    "\n",
    "$\n",
    "P(A \\cup B \\cup C) = \n",
    "P(A) + P(B) + P(C) - \n",
    "P(A \\cap B) - P(A \\cap C) - P(B \\cap C) + \n",
    "P(A \\cap B \\cap C)\n",
    "$\n"
   ]
  },
  {
   "cell_type": "code",
   "execution_count": null,
   "id": "40748a15-fb25-48b3-86e1-20508bb89bfa",
   "metadata": {},
   "outputs": [],
   "source": []
  },
  {
   "cell_type": "markdown",
   "id": "f1221a53-3096-4f44-8ddb-e226cc557f42",
   "metadata": {},
   "source": [
    "<h4>Law of Total Probability</h4>\n",
    "\n",
    "Let $B_1, B_2, \\ldots, B_n$ be a partition of the sample space (i.e., they are disjoint and their union is the entire sample space.\n",
    "\n",
    "$P(A) = P(A|B_1) P(B_1) + \\ldots + P(A|B_n) P(B_n)$\n",
    "\n",
    "$P(A) = P(A \\cap B_1) + \\ldots + P(A \\cap B_n)$"
   ]
  },
  {
   "cell_type": "code",
   "execution_count": null,
   "id": "99184476-4f47-4ec8-907a-6dd6abe13e29",
   "metadata": {},
   "outputs": [],
   "source": []
  },
  {
   "cell_type": "markdown",
   "id": "d0fc3bdd-42ea-4f3f-ab7e-e4f2bdb7a8b4",
   "metadata": {},
   "source": [
    "<h4>Law of Total Probability with Extra Conditioning</h4>\n",
    "\n",
    "$P(A|C) = P(A|B,C) + \\ldots + P(A|B_n,C) P(B_n|C)$\n",
    "\n",
    "$P(A|C) = P(A|B_1,C) + \\ldots + P(A \\cap B_n | C)$"
   ]
  },
  {
   "cell_type": "code",
   "execution_count": null,
   "id": "fad5e547-aec7-42df-b797-3fae4972f542",
   "metadata": {},
   "outputs": [],
   "source": []
  },
  {
   "cell_type": "markdown",
   "id": "d9053213-b8c9-4f06-8477-0792b9d8086c",
   "metadata": {},
   "source": [
    "<h4>Law of Total Probability with $B$ and $B^C$ as Partition</h4>\n",
    "\n",
    "$P(A) = P(A|B) P(B) + P(A|B^C) P(B^C)$\n",
    "\n",
    "$P(A) = P(A \\cap B) + P(A \\cap B^C)$"
   ]
  },
  {
   "cell_type": "code",
   "execution_count": null,
   "id": "b6ec9929-48f3-4d81-8de7-50d96155bcf8",
   "metadata": {},
   "outputs": [],
   "source": []
  },
  {
   "cell_type": "markdown",
   "id": "bf5f6036-1184-407a-b006-0661011d519c",
   "metadata": {},
   "source": [
    "<h4>Bayes' Rule</h4>\n",
    "\n",
    "$P(A|B) = \\frac{ P(B|A) P(A) }{P(B)}$\n",
    "\n",
    "$P(A|B,C) = \\frac{ P(B|A,C) P(A|C) }{P(B|C}$\n",
    "\n",
    "We can also write:\n",
    "\n",
    "$P(A|B,C) = \\frac{ P(A,B,C) }{P(B,C)} = \\frac{ P(B,C|A) P(A) }{P(B,C)}$\n",
    "\n",
    "Odds Form of Bayes' Rule\n",
    "\n",
    "$\\frac{P(A|B)}{P(A^C|B)} = \\frac{P(B|A)}{P(B|A^C)} \\frac{(A)}{(A^C)}$\n",
    "\n",
    "The posterior odds of A are the likelihood ratio times the prior odds."
   ]
  },
  {
   "cell_type": "code",
   "execution_count": null,
   "id": "a59cd38c-3fce-4092-b228-5878c2b34f09",
   "metadata": {},
   "outputs": [],
   "source": []
  },
  {
   "cell_type": "markdown",
   "id": "6007440f-07ad-49f1-ad5c-df4617f388e9",
   "metadata": {},
   "source": [
    "<h2 style=\"color: blue;\">RVs and Their Distributions</h2>"
   ]
  },
  {
   "cell_type": "markdown",
   "id": "8cd843a0-c176-4009-9e1e-62f71723175c",
   "metadata": {},
   "source": [
    "<h4>Probability Mass Function (PMF)</h4>\n",
    "\n",
    "Gives the probability a discrete RV takes on the value $x$.\n",
    "\n",
    "$P_X(x) = P(X=x)$\n",
    "\n",
    "The PMF satisfies $p_X(x) \\ge 0$ and $\\sum_x p_X(x) = 1$."
   ]
  },
  {
   "cell_type": "code",
   "execution_count": null,
   "id": "0e9a7870-cb2c-423c-9130-2db6fd839596",
   "metadata": {},
   "outputs": [],
   "source": []
  },
  {
   "cell_type": "markdown",
   "id": "af48e634-82e4-44ba-9344-999335e169e2",
   "metadata": {},
   "source": [
    "<h4>Cumulative Distribution Function (CDF)</h4>\n",
    "\n",
    "Gives the probability that a RV is less than or equal to $x$.\n",
    "\n",
    "$F_X(x) = P(X \\le x)$\n",
    "\n",
    "The CDF is an increasing, right-continuous function with $F_X(x) \\rightarrow 0$ as $x \\rightarrow -\\infty$ and $F_X(x) \\rightarrow 1$ as $x \\rightarrow \\infty$."
   ]
  },
  {
   "cell_type": "code",
   "execution_count": null,
   "id": "ed02c09e-8860-4844-822e-ad9a83eff268",
   "metadata": {},
   "outputs": [],
   "source": []
  },
  {
   "cell_type": "markdown",
   "id": "708d6d7e-529f-41a8-bfaa-ac5e5a89d2f1",
   "metadata": {},
   "source": [
    "<h4>Independence</h4>\n",
    "\n",
    "Two RVs are independent if knowing the value of one gives no information about the other.\n",
    "\n",
    "$P(X=x, Y=y) = P(X=x) P(Y=y)$"
   ]
  },
  {
   "cell_type": "code",
   "execution_count": null,
   "id": "63f37b2f-0c20-4833-ae90-513332095d1a",
   "metadata": {},
   "outputs": [],
   "source": []
  },
  {
   "cell_type": "markdown",
   "id": "00081911-8249-441e-8a5e-a67e87449bac",
   "metadata": {
    "tags": []
   },
   "source": [
    "<h2 style=\"color: blue;\">Expected Value</h2>"
   ]
  },
  {
   "cell_type": "markdown",
   "id": "3ccfb66a-5c5c-476a-a6ff-d633f7326c4c",
   "metadata": {},
   "source": [
    "<h4>Expected Value (a.k.a. mean, expectation, average)</h4>\n",
    "\n",
    "A weighted average of the possible outcomes of a RV.\n",
    "\n",
    "$E(X) = \\sum_i x_i P(X=x_i)$"
   ]
  },
  {
   "cell_type": "code",
   "execution_count": null,
   "id": "ff023ec1-2562-45c8-9013-dba7b706dd7c",
   "metadata": {},
   "outputs": [],
   "source": []
  },
  {
   "cell_type": "markdown",
   "id": "aee78fb8-6b92-43e0-ae09-944848d0c869",
   "metadata": {},
   "source": [
    "<h4>Linearity</h4>\n",
    "\n",
    "For any RVs $X$ and $Y$, and constants $a$, $b$, and $c$:\n",
    "    \n",
    "$E(aX + bY + c)  = aE(X) + bE(Y) + c$"
   ]
  },
  {
   "cell_type": "code",
   "execution_count": null,
   "id": "987ba0b6-aaf5-4e6c-b830-467d8d577a67",
   "metadata": {},
   "outputs": [],
   "source": []
  },
  {
   "cell_type": "markdown",
   "id": "646c4bc7-18b8-412b-8ba4-1182b9448c7a",
   "metadata": {},
   "source": [
    "Conditional Expected Value\n",
    "\n",
    "Defined like expectation, only conditioned on an event $A$.\n",
    "\n",
    "$E(X|A) = \\sum_x P(X=x|A)$"
   ]
  },
  {
   "cell_type": "code",
   "execution_count": null,
   "id": "99846a1e-4789-4604-a3fb-0e4c745cd3cf",
   "metadata": {},
   "outputs": [],
   "source": []
  },
  {
   "cell_type": "markdown",
   "id": "52e38379-6264-4c37-bd95-a46bfcd29359",
   "metadata": {},
   "source": [
    "Variance and Standard Deviation\n",
    "\n",
    "$Var(X) = E(X - E(X))^2 = E(X^2) - (E(X))^2$\n",
    "\n",
    "$SD(X) = \\sqrt{Var(X)}$"
   ]
  },
  {
   "cell_type": "code",
   "execution_count": null,
   "id": "48b63c6d-0e09-4473-b879-c4634970fea4",
   "metadata": {},
   "outputs": [],
   "source": []
  },
  {
   "cell_type": "markdown",
   "id": "6a2df2b7-1234-4fd7-9175-5dbb5a7aa5a6",
   "metadata": {},
   "source": [
    "<h2 style=\"color: blue;\">Continuous RVs, LOTUS</h2>"
   ]
  },
  {
   "cell_type": "markdown",
   "id": "2d141330-d3a7-48ab-b02b-0969d0b98f3f",
   "metadata": {},
   "source": [
    "<h4>Probability Density Function (PDF)</h4>\n",
    "\n",
    "The derivative of the CDF.\n",
    "\n",
    "$E(X) = \\int_{-\\infty}^{\\infty} x f(x) ~dx$"
   ]
  },
  {
   "cell_type": "code",
   "execution_count": null,
   "id": "63fa1967-59b8-47c9-8173-76544b292d8b",
   "metadata": {},
   "outputs": [],
   "source": []
  },
  {
   "cell_type": "markdown",
   "id": "72f5d16f-d56d-482e-89a0-8746e949ce7f",
   "metadata": {},
   "source": [
    "<h4>Law of the Unconscious Statistician (LOTUS)</h4>\n",
    "\n",
    "States that you can find the expected value of a function of a random variable, $g(X)$, by replacing the $x$ in front of the PMF/PDF by $g(x)$ but still working with the PMF/PDF of $X$.\n",
    "\n",
    "$E(g(X)) = \\sum_x g(x) P(X=x)$\n",
    "\n",
    "$E(g(X)) = \\int_{-\\infty}^{\\infty} g(x) f(x) ~dx$"
   ]
  },
  {
   "cell_type": "code",
   "execution_count": null,
   "id": "4687c8c0-5ac8-4779-b08e-cb2263d2b53e",
   "metadata": {},
   "outputs": [],
   "source": []
  },
  {
   "cell_type": "markdown",
   "id": "181ec0ba-34ac-4bb2-a800-274aee3f3ec6",
   "metadata": {},
   "source": [
    "<h4>Moment Generating Functions</h4>\n",
    "\n",
    "For any RV $X$, the function $M_X(t) = E(e^{tX})$ is the MGF of $X$.\n",
    "\n",
    "Moments describe the shape of a distribution. \n",
    "\n",
    "Mean: $E(X) = \\mu_1$\n",
    "\n",
    "Variance: $Var(X) = \\mu_2 - \\mu_1^2$\n",
    "\n",
    "Skewness: $Skew(X) = m_3$\n",
    "\n",
    "Kurtosis: $Kurt(X) = m_4 - 3$"
   ]
  },
  {
   "cell_type": "code",
   "execution_count": null,
   "id": "1aa6e9a0-e153-4b4d-8cfc-094afa1464c7",
   "metadata": {},
   "outputs": [],
   "source": []
  },
  {
   "cell_type": "markdown",
   "id": "961c3768-5609-410b-b070-975e0d383c72",
   "metadata": {},
   "source": [
    "<h2 style=\"color: blue;\">Joint PDFs and CDFs</h2>"
   ]
  },
  {
   "cell_type": "markdown",
   "id": "6dc07e90-ae70-4d36-af27-95d79ba741f6",
   "metadata": {
    "tags": []
   },
   "source": [
    "<h4>Joint Distributions</h4>\n",
    "\n",
    "The joint CDF of $X$ and $Y$ is:\n",
    "    \n",
    "$F(x,y) = P(X \\le x, Y \\le y)$\n",
    "\n",
    "In the discrete case, $X$ and $Y$ have a joint PMF.\n",
    "\n",
    "$P{X,Y}(x,y) = P(X=x, Y=y)$\n",
    "\n",
    "In the continuous case, they havec a joint PDF.\n",
    "\n",
    "$f_{X,Y}(x,y) = \\frac{\\partial^2}{\\partial x \\partial y} F_{X,Y}(x,y)$\n",
    "\n",
    "The joint PDF/PMF is nonnegative and sum to $1$."
   ]
  },
  {
   "cell_type": "code",
   "execution_count": null,
   "id": "b44a574c-69a8-415c-8dc5-b7c755e66c20",
   "metadata": {},
   "outputs": [],
   "source": []
  },
  {
   "cell_type": "markdown",
   "id": "89135574-3121-45de-ad0f-1f0054eee665",
   "metadata": {},
   "source": [
    "<h4>Conditional Distributions</h4>\n",
    "\n",
    "<h5>Conditioning and Bayes' Rule for Discrete RVs</h5>\n",
    "\n",
    "$P(Y=y|X=x) = \\frac{P(X=x,Y=y)}{P(X=x} = \\frac{P(X=x|Y=y) P(Y=y)}{P(X=x)}$\n",
    "\n",
    "</br>\n",
    "<h5>Conditioning and Bayes' Rule for Continuous RVs</h5>\n",
    "\n",
    "$f_{Y|X}(y|x) = \\frac{f_{X,Y}(x,y)}{f_X(x)} = \\frac{ F_{X,Y}(x|y) f_Y(y) }{f_X(x)}$\n",
    "\n",
    "</br>\n",
    "<h5>Hybrid Bayes' Rule</h5>\n",
    "\n",
    "$f_X(x|A) = \\frac{ P(A|X=x) f_X(x) }{P(A)}$"
   ]
  },
  {
   "cell_type": "code",
   "execution_count": null,
   "id": "348b8cfe-e338-4fc2-ad82-c3422eda3a91",
   "metadata": {},
   "outputs": [],
   "source": []
  },
  {
   "cell_type": "markdown",
   "id": "9fa6c8f1-7482-44ce-bb7f-97654fa91c7b",
   "metadata": {},
   "source": [
    "<h4>Marginal Distributions</h4>\n",
    "\n",
    "To find the distribution of one (or more) RVs from a joint PMF/PDF, sum/integrate over the unwanted RVs.\n",
    "\n",
    "From joint PMF:\n",
    "\n",
    "$P(X=x) = \\sum_y P(X=x,Y=y)$\n",
    "\n",
    "From joint PDF:\n",
    "\n",
    "$f_X(x) = \\int_{-\\infty}^{\\infty} f_{X,Y}(x,y) ~dy$"
   ]
  },
  {
   "cell_type": "code",
   "execution_count": null,
   "id": "c31f4f46-4461-4aa1-8c3d-99bff7239307",
   "metadata": {},
   "outputs": [],
   "source": []
  },
  {
   "cell_type": "markdown",
   "id": "f96c1bac-800e-474d-af09-b122ada7807d",
   "metadata": {},
   "source": [
    "<h4>Independence of RVs</h4>\n",
    "\n",
    "RVs $X$ and $Y$ are independent only if the joint CDF is the product of the marginal CDFs, and the joint PMF/PDF is the product of the marginal PMFs/PDFs."
   ]
  },
  {
   "cell_type": "code",
   "execution_count": null,
   "id": "17ea3c56-4341-4a47-899b-0ba1e6bd3465",
   "metadata": {},
   "outputs": [],
   "source": []
  },
  {
   "cell_type": "markdown",
   "id": "e4746277-c22c-48e7-9e86-f3f03c63b32e",
   "metadata": {},
   "source": [
    "<h4>Covariance and Transformations</h4>\n",
    "\n",
    "$Cov(X,Y) = E((X-E(X))(Y-E(Y))) = E(XY) - E(X) E(Y)$\n",
    "\n",
    "$Corr(X,Y) = \\frac{Cov(X,Y)}{\\sqrt{Var(X) Var(Y)}}$\n",
    "\n",
    "<h5>Properties</h5>\n",
    "\n",
    "For RVs $W$, $X$, $Y$, $Z$, and constants $a$, $b$:\n",
    "\n",
    "$Cov(X,Y) = Cov(Y,X)$\n",
    "\n",
    "$Cov(X+a, Y+b) = Cov(X,Y)$\n",
    "\n",
    "$Cov(aX, bY) = ab Cov(X,Y)$\n",
    "\n",
    "$Cov(W+X, Y+Z) = Cov(W,Y) + Cov(W,Z) + Cov(X,Y) + Cov(X,Z)$\n",
    "\n",
    "Correlation is location-invariant and scale-invariant:\n",
    "\n",
    "$Corr(aX + b, cY + d) = Corr(X,Y)$"
   ]
  },
  {
   "cell_type": "code",
   "execution_count": null,
   "id": "4d6b00f4-10f2-4da2-854f-00b497f7558b",
   "metadata": {},
   "outputs": [],
   "source": []
  },
  {
   "cell_type": "markdown",
   "id": "5da20856-2100-411d-af2d-b88ab73ba087",
   "metadata": {
    "tags": []
   },
   "source": [
    "<h2 style=\"color: blue;\">Continuous Distributions</h2>"
   ]
  },
  {
   "cell_type": "markdown",
   "id": "79f4c3ef-5eb4-419f-8089-3b3b6d4276cb",
   "metadata": {},
   "source": [
    "<h4>Exponential Distribution</h4>\n",
    "\n",
    "<h5>Properties</h5>\n",
    "\n",
    "Memorylessness: the Exponential distribution is the only continuous memorylessness distribution.\n",
    "\n",
    "$P(X \\gt s+t | x \\gt s) = P(x \\gt t)$\n",
    "\n",
    "Minimum of Exponentials: if we have independent $X_i \\text{~} Expo(\\lambda)$, then $min(X_1, X_2, \\ldots, X_k) \\text{~} Expo(\\lambda_1 + \\lambda_2 + \\ldots + \\lambda_k)$\n",
    "\n",
    "Maximum of Exponentials: if we have IID $X_i \\text{~} Expo(\\lambda)$, then $max(X_1, \\ldots, X_k)$ has the same distribution as $Y_1 + Y_2 + \\ldots + Y_k$, where $Y_j \\text{~} Expo(j \\lambda)$ and the $Y_j$ are independent."
   ]
  },
  {
   "cell_type": "code",
   "execution_count": null,
   "id": "589217ff-9455-49f9-8f83-aa7b212b72f1",
   "metadata": {},
   "outputs": [],
   "source": []
  },
  {
   "cell_type": "markdown",
   "id": "067dba87-efe1-439e-b5ff-bbaadca90029",
   "metadata": {},
   "source": [
    "<h4>Gamma</h4>\n",
    "\n",
    "Story: You sit waiting for shooting stars, where the waiting time for a start is distributed $Expo(\\lambda)$. You want to see n shooting stars before you go home. The total waiting time for the $n^{th}$ shooting star is $Gamma(n,\\lambda)$.\n",
    "\n",
    "Example: You are at a bank, and there are 3 people ahead of you. The serving time for each person is $Expo(\\lambda)$ with mean $2$ minutes. The distribution of your waiting time to be served is $Gamma \\left( 3,\\frac{1}{2} \\right)$."
   ]
  },
  {
   "cell_type": "code",
   "execution_count": null,
   "id": "705a876e-163d-4441-88ca-6538b7671cef",
   "metadata": {},
   "outputs": [],
   "source": []
  },
  {
   "cell_type": "markdown",
   "id": "60a59f9f-81a8-4cdf-82df-f40c8ee7080c",
   "metadata": {},
   "source": [
    "<h4>Chi-Squared Distribution</h4>\n",
    "\n",
    "A $\\chi^2(n)$ distribution is the sum of squares of independent standard normal RVs.\n",
    "\n",
    "$X \\text{~} Z_1^2 + Z_2^2 + \\ldots + Z_n^2$"
   ]
  },
  {
   "cell_type": "code",
   "execution_count": null,
   "id": "cc4e4bb8-8219-4165-a890-70827504ed32",
   "metadata": {},
   "outputs": [],
   "source": []
  },
  {
   "cell_type": "markdown",
   "id": "ef9c3da6-8a34-44ee-9140-e9c0641414c8",
   "metadata": {
    "tags": []
   },
   "source": [
    "<h2 style=\"color: blue;\">Discrete Distributions</h2>"
   ]
  },
  {
   "cell_type": "markdown",
   "id": "18bd7a2c-c261-45b4-a601-5979617e5eff",
   "metadata": {},
   "source": [
    "Distributions for Sampling Schemes:\n",
    "    \n",
    "**table**"
   ]
  },
  {
   "cell_type": "code",
   "execution_count": null,
   "id": "6941a4d8-6cad-40a0-9141-3b48d8ab3725",
   "metadata": {},
   "outputs": [],
   "source": []
  },
  {
   "cell_type": "markdown",
   "id": "40cd726a-0a98-432f-b10a-dc1376e3cf9e",
   "metadata": {},
   "source": [
    "<h4>Binomial Distribution</h4>\n",
    "\n",
    "$X$ is the number of successes we will achieve in $n$ independent Bernoulli trials with probability $p$.\n",
    "\n",
    "<h5>Properties</h5>\n",
    "\n",
    "Let $X \\text{~} Bin(n,p)$ and $Y \\text{~} Bin(m,p)$, with $X$ independent of $Y$.\n",
    "\n",
    "- Redefining Success: $n-X \\text{~} Bin(b,1-p)$\n",
    "\n",
    "- Sum: $X+Y \\text{~} Bin(n+m,p)$\n",
    "\n",
    "- Conditional: $X|(X+Y=r) \\text{~} HGeom(n,m,r)$\n",
    "\n",
    "- Binomial-Poisson Relationship: $Bin(n,p)$ is approximately $Pois(\\lambda)$ if $p$ is small\n",
    "\n",
    "- Binomial-Normal Relationship: $Bin(n,p)$ is approximately $\\mathcal{N}(np, np(1-p))$ if $n$ is large and $p$ is not near $0$ or $1$."
   ]
  },
  {
   "cell_type": "code",
   "execution_count": null,
   "id": "5e5f4953-3b22-4b5a-98d4-afd28c106b4b",
   "metadata": {},
   "outputs": [],
   "source": []
  },
  {
   "cell_type": "markdown",
   "id": "135a1f10-5572-4d62-a2a9-75b61e012946",
   "metadata": {},
   "source": [
    "<h4>Geometric</h4>\n",
    "\n",
    "Story: $X$ is the number of failures that we will achieve before we achieve our first success, where successes have probability $p$.\n",
    "\n",
    "Example: If each Pokeball has probability $\\frac{1}{10}$ to catch one, the number of failed Pokeballs will be distributed $Geom \\left( \\frac{1}{10} \\right)$."
   ]
  },
  {
   "cell_type": "code",
   "execution_count": null,
   "id": "0649a0b2-cec8-4af9-898e-7250535892fe",
   "metadata": {},
   "outputs": [],
   "source": []
  },
  {
   "cell_type": "markdown",
   "id": "d7109192-2151-434d-8961-5ff5c1cd3b68",
   "metadata": {},
   "source": [
    "<h4>First Success Distribution</h4>\n",
    "\n",
    "Equivalent to the Geometric distribution, except includes the first success in the count. This is $1$ more than the number of failures.\n",
    "\n",
    "If $X \\text{~} FS(p)$, then $E(X) = \\frac{1}{p}$"
   ]
  },
  {
   "cell_type": "code",
   "execution_count": null,
   "id": "5431a15c-4a0a-4c27-bfcf-0f6708ad5d46",
   "metadata": {},
   "outputs": [],
   "source": []
  },
  {
   "cell_type": "markdown",
   "id": "7257ac9c-4f79-428e-9c58-1df95e2b3671",
   "metadata": {},
   "source": [
    "<h4>Negative Binomial Distribution</h4>\n",
    "\n",
    "Story: $X$ is the number of failures that we will have before we achieve our $r^{th}$ success, with success probability $p$.\n",
    "\n",
    "Example: Pokeman $A$ has $60\\%$ accuracy and can destroy Pokeman $B$ in $3$ hits. The number of misses before $A$ destroys $B$ is distributed $NBin(3,0.6)$."
   ]
  },
  {
   "cell_type": "code",
   "execution_count": null,
   "id": "de4d7495-fbab-4760-b82d-4bc969ce6712",
   "metadata": {},
   "outputs": [],
   "source": []
  },
  {
   "cell_type": "markdown",
   "id": "5f9ad742-e49b-4e4f-be8b-dc93bd19c426",
   "metadata": {},
   "source": [
    "<h4>Hypergeometric Distribution</h4>\n",
    "\n",
    "Story: In a population of $w$ desired objects and $b$ undesired objects, $X$ is the number of successes we will have in a draw of $n$ objects, without replacement. The draw of $n$ objects is a simple random sample; all sets of $n$ objects are equally likely.\n",
    "\n",
    "Examples:\n",
    "\n",
    "- The number of aces in a $5$-card hand\n",
    "\n",
    "- You have $w$ white balls and $b$ black balls, and you draw $n$ balls without replacement. The number of white balls in your sample is $HGeom(w,b,n)$. The number of black balls is $HGeom(b,w,n)$.\n",
    "\n",
    "- A forest has $N$ elk, you recapture $n$ of them, tag them, and release them. Then you recapture a new sample of size $m$. How many tagged elk are now in the new sample? $HGeom(n,N-n,m)$."
   ]
  },
  {
   "cell_type": "code",
   "execution_count": null,
   "id": "e1c3ac03-5ff3-47c3-bbb5-5f4f2a0ed085",
   "metadata": {},
   "outputs": [],
   "source": []
  },
  {
   "cell_type": "markdown",
   "id": "8fa3df88-657e-4f0e-8d87-a438a107755f",
   "metadata": {},
   "source": [
    "<h4>Poisson</h4>\n",
    "\n",
    "Story: There are rare (low probability) events with high possibilities of occurrences (may occur many different ways) at an average rate of $\\lambda$ occurrences per unit of space or time. The number of occurrences in that unit of space or time is $X$.\n",
    "\n",
    "Example: A busy intersection has an average of 2 accidents per month. It is reasonable to model the number of accidents in a month at that intersection as Pois(2). The number of accidents in two months is distributed Pois(4).\n",
    "\n",
    "<h5>Properties</h5>\n",
    "\n",
    "1. Sum: $X+Y \\text{~} Pois(\\lambda_1 + \\lambda_2)$\n",
    "\n",
    "2. Conditional: $X|(X+Y=n) \\tilde{~} Bin \\left( n, \\frac{\\lambda_1}{\\lambda_1 + \\lambda_2} \\right)$\n",
    "\n",
    "3. Chicken-Egg: if there are $Z \\text{~} Pois(\\lambda)$ items and we randomly and independently 'accept' each item with probability $p$, then the number of accepted items is $Z_1 \\text{~} Pois(\\lambda p)$, and the number of rejected items is $Z_2 \\text{~} Pois(\\lambda (1-p))$, with $Z_1$ independent of $Z_2$."
   ]
  },
  {
   "cell_type": "code",
   "execution_count": null,
   "id": "1c4dcb1e-fa47-448d-8a97-e2f60f27e05e",
   "metadata": {},
   "outputs": [],
   "source": []
  },
  {
   "cell_type": "markdown",
   "id": "69bf65b3-6261-4965-bcc3-504c7095ee2a",
   "metadata": {},
   "source": [
    "<h4>Multinomial</h4>\n",
    "\n",
    "Story: We have $n$ items, which can fall into any one of the $k$ buckets independently with the probabilities $\\overrightarrow{p} = (p_1, p_2, \\ldots, p_k)$.\n",
    "\n",
    "Example: Assume that every year, 100 students in the Harry Potter universe are randomly and independently sorted into one of $4$ houses with equal probability. The number of people in each of the $4$ houses is distributed $Mult_4(100,\\overrightarrow{p})$, where $\\overrightarrow{p} = (0.25,0.25,0.25,0.25)$.\n",
    "\n",
    "Note that $X_1 + X_2 + X_3 + X_4 = 100$, and they are dependent. \n",
    "\n",
    "<h5>Joint PMF</h5>\n",
    "\n",
    "For $n = n_1 + n_2 + \\ldots + n_k$, \n",
    "\n",
    "$P(\\overrightarrow{X} = \\overrightarrow{n}) = \\frac{n!}{ n_1! n_2! \\ldots n_k! } p_1^{n_1} p_2^{n_2} \\ldots p_k^{n_k}$\n",
    "\n",
    "<h5>Marginal PMF, Lumping, and Conditionals</h5>\n",
    "\n",
    "Marginally, $X_i \\text{~} Bin(n,p_i)$ since we can define success to mean category $i$. If you lump together multiple categories in a Multinomial, then it is still Multinomial. e.g., $X_i + X_j \\text{~} Bin(n, p_i + p_j)$ for $i \\neq j$ since we can define success as being in category $i$ or $j$. e.g., \n",
    "\n",
    "$(X_1 + X_2, X_3 + X_4 + X_5, X_6) ~\\text{~}~ Mult_3(n, (p_1 + p_2, p_3 + p_4 + p_5, p_6))$"
   ]
  },
  {
   "cell_type": "code",
   "execution_count": null,
   "id": "695b51a9-e77f-41e9-9171-e1a6b6d0bd77",
   "metadata": {},
   "outputs": [],
   "source": []
  },
  {
   "cell_type": "markdown",
   "id": "5ac62bda-8411-406f-9366-7140c91a3802",
   "metadata": {},
   "source": [
    "<h4>Multivariate Normal</h4>\n",
    "\n",
    "A vector $\\overrightarrow{X} = (X_1, X_2, \\ldots, X_k)$ is MVN if every linear combination is normally distributed. The parameters of the MVN are the mean vector $\\overrightarrow{\\mu} = (\\mu_1, \\mu_2, \\ldots, \\mu_k)$ and the covariance matrix (where the $(i,j)^{th}$ entry is $Cov(X_i, X_j)$.\n",
    "\n",
    "<h5>Properties</h5>\n",
    "\n",
    "- Any subvector is also MVN\n",
    "\n",
    "- If any two elements within a MVN are uncorrelated, then they are independent\n",
    "\n",
    "- The joint PDF of a Bivariate Normal $(X,Y)$ with $\\mathcal{N}(0,1)$ marginal distributions and correlation $\\rho \\in (-1,1)$\n",
    "\n",
    "$f_{X,Y}(x,y) = \\frac{1}{2 \\pi \\tau} exp \\left( - \\frac{1}{2 \\tau^2} (x^2 + y^2 - 2 \\rho xy \\right)$,\n",
    "\n",
    "with $\\tau = \\sqrt{1-p^2}$."
   ]
  },
  {
   "cell_type": "code",
   "execution_count": null,
   "id": "1bcdbf1a-35ed-4fdd-930c-b0f31eaa95e9",
   "metadata": {},
   "outputs": [],
   "source": []
  },
  {
   "cell_type": "markdown",
   "id": "6843e114-4742-4b97-9780-bc1b4d4bbf3a",
   "metadata": {},
   "source": [
    "<h2 style=\"color: blue;\">Distribution Properties</h2>"
   ]
  },
  {
   "cell_type": "markdown",
   "id": "5431d843-e91d-4b9e-95e1-2efd8c5a2694",
   "metadata": {
    "tags": []
   },
   "source": [
    "<h4>Special Cases of Distributions</h4>\n",
    "\n",
    "- $Bin(1,p) \\text{~} Bern(p)$\n",
    "\n",
    "- $Beta(1,1) \\text{~} Unif(0,1)$\n",
    "\n",
    "- $Gamma(1,\\lambda) \\text{~} Expo(\\lambda)$\n",
    "\n",
    "- $\\chi_n^2 \\text{~} Gamma \\left( \\frac{n}{2}, \\frac{1}{2} \\right)$\n",
    "\n",
    "- $NBin(1,p) \\text{~} Geom(p)$"
   ]
  },
  {
   "cell_type": "code",
   "execution_count": null,
   "id": "37eb0c16-cb99-4da5-a2b3-227330d98018",
   "metadata": {},
   "outputs": [],
   "source": []
  },
  {
   "cell_type": "markdown",
   "id": "c337dc52-9943-4a67-9ea2-f9954d1d1af5",
   "metadata": {
    "tags": []
   },
   "source": [
    "<h2 style=\"color: blue;\">Formulas</h2>"
   ]
  },
  {
   "cell_type": "markdown",
   "id": "b7d06371-83a0-4826-b48e-194b64ad607a",
   "metadata": {},
   "source": [
    "<h4>Geometric Series</h4>\n",
    "\n",
    "$1 + r + r^2 + \\ldots + r^{n-1} = \\sum_{k=0}^{n-1} = \\frac{1-r^n}{1-r}$\n",
    "\n",
    "If $|r|$ is less than $1$, then:\n",
    "    \n",
    "$1 + r + r^2 + \\ldots = \\frac{1}{1-r}$"
   ]
  },
  {
   "cell_type": "code",
   "execution_count": null,
   "id": "1d6935bc-7099-45b9-b60f-e95b9b54eb43",
   "metadata": {},
   "outputs": [],
   "source": []
  },
  {
   "cell_type": "markdown",
   "id": "d636567e-84b6-429a-9e1a-9665a90e024c",
   "metadata": {},
   "source": [
    "<h4>Exponential Function</h4>\n",
    "\n",
    "$e^x = \\sum_{n=0}^{\\infty} \\frac{x^n}{n!} = 1 + x + \\frac{x^2}{2!} + \\frac{x^3}{3!} + \\ldots = \\lim_{n \\rightarrow \\infty} \\left( 1 + \\frac{x}{n} \\right)$"
   ]
  },
  {
   "cell_type": "code",
   "execution_count": null,
   "id": "bf10d247-9bed-45c6-b713-7b82b1e6e606",
   "metadata": {},
   "outputs": [],
   "source": []
  },
  {
   "cell_type": "markdown",
   "id": "457aaacf-dafb-4c6f-9ceb-09e26d487e08",
   "metadata": {},
   "source": [
    "<h4>Euler's Approximation for Harmonic Sums</h4>\n",
    "\n",
    "$ + \\frac{1}{2} + \\frac{1}{3} + \\ldots + \\frac{1}{n} \\approx log ~n + 0.577$"
   ]
  },
  {
   "cell_type": "code",
   "execution_count": null,
   "id": "b849eeef-5be4-4579-b7d9-dfd2516778b8",
   "metadata": {},
   "outputs": [],
   "source": []
  },
  {
   "cell_type": "markdown",
   "id": "a239a3c2-7fde-4fe4-b48b-7e16568870ee",
   "metadata": {
    "tags": []
   },
   "source": [
    "<h2 style=\"color: blue;\">Table of Distributions</h2>"
   ]
  },
  {
   "cell_type": "markdown",
   "id": "5f2fb43b-e43f-4caa-bb80-c90638604778",
   "metadata": {
    "tags": []
   },
   "source": [
    "<img src=\"img/prob_dists.png\" style=\"height: 700px; width:auto;\">"
   ]
  }
 ],
 "metadata": {
  "kernelspec": {
   "display_name": "Python 3 (ipykernel)",
   "language": "python",
   "name": "python3"
  },
  "language_info": {
   "codemirror_mode": {
    "name": "ipython",
    "version": 3
   },
   "file_extension": ".py",
   "mimetype": "text/x-python",
   "name": "python",
   "nbconvert_exporter": "python",
   "pygments_lexer": "ipython3",
   "version": "3.11.5"
  }
 },
 "nbformat": 4,
 "nbformat_minor": 5
}
